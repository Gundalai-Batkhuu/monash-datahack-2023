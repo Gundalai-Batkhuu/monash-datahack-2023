{
  "nbformat": 4,
  "nbformat_minor": 0,
  "metadata": {
    "colab": {
      "provenance": []
    },
    "kernelspec": {
      "name": "python3",
      "display_name": "Python 3"
    },
    "language_info": {
      "name": "python"
    }
  },
  "cells": [
    {
      "cell_type": "code",
      "execution_count": 2,
      "metadata": {
        "id": "VZIKV982tr5y"
      },
      "outputs": [],
      "source": [
        "# dataset\n",
        "\n",
        "import pandas as pd\n",
        "\n",
        "df = pd.read_excel(\"dataset_competition.xlsx\")"
      ]
    },
    {
      "cell_type": "code",
      "source": [
        "print(df)"
      ],
      "metadata": {
        "colab": {
          "base_uri": "https://localhost:8080/"
        },
        "id": "MDtLldPO53b8",
        "outputId": "ffd6f3b3-79a4-489b-90d8-3d7230bc8fa5"
      },
      "execution_count": 3,
      "outputs": [
        {
          "output_type": "stream",
          "name": "stdout",
          "text": [
            "            Year Jurisdiction                Category       Type  \\\n",
            "0      2020-2021          ACT               Biosolids  Biosolids   \n",
            "1      2020-2021          ACT               Biosolids  Biosolids   \n",
            "2      2020-2021          ACT               Biosolids  Biosolids   \n",
            "3      2020-2021          ACT               Biosolids  Biosolids   \n",
            "4      2020-2021          ACT               Biosolids        NaN   \n",
            "...          ...          ...                     ...        ...   \n",
            "71491  2006-2007           WA  Unclassified materials        NaN   \n",
            "71492  2006-2007           WA  Unclassified materials        NaN   \n",
            "71493  2006-2007           WA  Unclassified materials        NaN   \n",
            "71494  2006-2007           WA  Unclassified materials        NaN   \n",
            "71495  2006-2007           WA  Unclassified materials        NaN   \n",
            "\n",
            "      Classification Total type Stream                  Management  \\\n",
            "0               Type        NaN    C&I              Other disposal   \n",
            "1               Type        NaN    C&I                   Recycling   \n",
            "2               Type        NaN  Total              Other disposal   \n",
            "3               Type        NaN  Total                   Recycling   \n",
            "4           Category        NaN    C&I              Other disposal   \n",
            "...              ...        ...    ...                         ...   \n",
            "71491       Category        NaN    MSW                   Recycling   \n",
            "71492       Category        NaN  Total  Energy from waste facility   \n",
            "71493       Category        NaN  Total                    Landfill   \n",
            "71494       Category        NaN  Total                    Landfill   \n",
            "71495       Category        NaN  Total                   Recycling   \n",
            "\n",
            "                  Fate        Tonnes Core or non-core   Sub-stream  \\\n",
            "0             Disposal  20185.549742       Core waste  03 C&I core   \n",
            "1            Recycling      0.000000       Core waste  03 C&I core   \n",
            "2             Disposal  20185.549742       Core waste     09 Total   \n",
            "3            Recycling      0.000000       Core waste     09 Total   \n",
            "4             Disposal  20185.549742       Core waste  03 C&I core   \n",
            "...                ...           ...              ...          ...   \n",
            "71491        Recycling      0.000000       Core waste       01 MSW   \n",
            "71492  Energy recovery      0.000000       Core waste     09 Total   \n",
            "71493         Disposal      0.000000       Core waste     09 Total   \n",
            "71494  Energy recovery      0.000000       Core waste     09 Total   \n",
            "71495        Recycling      0.000000       Core waste     09 Total   \n",
            "\n",
            "                      Cat. order Cat. no.    Type order Type no.       \n",
            "0                    03 Organics       C3  14 Biosolids      T14  NaN  \n",
            "1                    03 Organics       C3  14 Biosolids      T14  NaN  \n",
            "2                    03 Organics       C3  14 Biosolids      T14  NaN  \n",
            "3                    03 Organics       C3  14 Biosolids      T14  NaN  \n",
            "4                    03 Organics       C3           NaN      NaN  NaN  \n",
            "...                          ...      ...           ...      ...  ...  \n",
            "71491  10 Unclassified materials      C10           NaN      NaN  NaN  \n",
            "71492  10 Unclassified materials      C10           NaN      NaN  NaN  \n",
            "71493  10 Unclassified materials      C10           NaN      NaN  NaN  \n",
            "71494  10 Unclassified materials      C10           NaN      NaN  NaN  \n",
            "71495  10 Unclassified materials      C10           NaN      NaN  NaN  \n",
            "\n",
            "[71496 rows x 17 columns]\n"
          ]
        }
      ]
    },
    {
      "cell_type": "markdown",
      "source": [
        "Visualizations"
      ],
      "metadata": {
        "id": "5vMQiMUx5328"
      }
    },
    {
      "cell_type": "markdown",
      "source": [
        "*** SOME SAMPLE VISUALIZATIONS, WE CAN CHANGE THE VISUALIZATIONS WE WANT LATER"
      ],
      "metadata": {
        "id": "M3SI0NRiu1SQ"
      }
    },
    {
      "cell_type": "code",
      "source": [
        "# some simple visualizations here, we can discuss and change the visualizations we want\n",
        "\n",
        "import pandas as pd\n",
        "\n",
        "\n",
        "grouped_df = df.groupby('Category')['Tonnes'].sum().reset_index()\n",
        "\n"
      ],
      "metadata": {
        "id": "YIzz_dcE6SkT"
      },
      "execution_count": 4,
      "outputs": []
    },
    {
      "cell_type": "code",
      "source": [
        "import matplotlib.pyplot as plt\n",
        "\n",
        "# Assuming you have a DataFrame named grouped_df\n",
        "plt.figure(figsize=(10, 6))\n",
        "plt.bar(grouped_df['Category'], grouped_df['Tonnes'])\n",
        "plt.xlabel('Category')\n",
        "plt.ylabel('Total Tonnes')\n",
        "plt.title('Total Tonnes by Category')\n",
        "plt.xticks(rotation=90)  # Rotate category labels for better readability\n",
        "plt.show()\n"
      ],
      "metadata": {
        "colab": {
          "base_uri": "https://localhost:8080/",
          "height": 812
        },
        "id": "XkrVNAcEmGSM",
        "outputId": "8c5990ce-02fb-44db-8214-7909961407f3"
      },
      "execution_count": 8,
      "outputs": [
        {
          "output_type": "display_data",
          "data": {
            "text/plain": [
              "<Figure size 1000x600 with 1 Axes>"
            ],
            "image/png": "[encoded data removed]"
          },
          "metadata": {}
        }
      ]
    },
    {
      "cell_type": "markdown",
      "source": [
        "**Hypothesis Testing**\n",
        "\n"
      ],
      "metadata": {
        "id": "4yuqcuw76Sxj"
      }
    },
    {
      "cell_type": "markdown",
      "source": [
        "Hypothesis Testing 1 - Does the annual waste production significantly change over time in the dataset?\n",
        "\n",
        "Null Hypothesis (HO)\n",
        "There is no significant difference in the mean 'Tonnes' of waste between different 'Years' in your dataset.\n",
        "The annual waste production remains the same over time, and any observed differences in the mean \"Tonnes\" of waste between different years are due to random variation or chance."
      ],
      "metadata": {
        "id": "kKvNf57vqtEr"
      }
    },
    {
      "cell_type": "code",
      "source": [
        "\n",
        "import scipy.stats as stats\n",
        "\n",
        "# Perform one-way ANOVA\n",
        "f_statistic, p_value = stats.f_oneway(*[group['Tonnes'] for name, group in df.groupby('Year')])\n",
        "\n",
        "# Choose a significance level (alpha)\n",
        "alpha = 0.05\n",
        "\n",
        "# Compare p-value to alpha\n",
        "if p_value < alpha:\n",
        "    print(\"Reject the null hypothesis: There is a significant difference in the mean 'Tonnes' of waste between different 'Years'.\")\n",
        "else:\n",
        "    print(\"Fail to reject the null hypothesis: There is no significant difference in the mean 'Tonnes' of waste between different 'Years'.\")\n"
      ],
      "metadata": {
        "colab": {
          "base_uri": "https://localhost:8080/"
        },
        "id": "jBF_W6sWqtdY",
        "outputId": "12b37860-2888-4a39-caa7-9e077d66c34c"
      },
      "execution_count": 10,
      "outputs": [
        {
          "output_type": "stream",
          "name": "stdout",
          "text": [
            "Reject the null hypothesis: There is a significant difference in the mean 'Tonnes' of waste between different 'Years'.\n"
          ]
        }
      ]
    },
    {
      "cell_type": "markdown",
      "source": [
        "Hypothesis Testing 2 - Does the \"Classification\" of waste have an impact on the \"Management\" method used for waste disposal?\n",
        "\n",
        "Hypothesis:\n",
        "  - Null Hypothesis (HO): Classification of waste does not impact the managemention method\n"
      ],
      "metadata": {
        "id": "VyZwu5qao1TD"
      }
    },
    {
      "cell_type": "code",
      "source": [
        "\n",
        "\n",
        "# Create a contingency table\n",
        "contingency_table = pd.crosstab(df['Classification'], df['Management'])\n",
        "\n",
        "# Perform the Chi-Square Test of Independence\n",
        "chi2, p, dof, expected = stats.chi2_contingency(contingency_table)\n",
        "\n",
        "# Choose a significance level (alpha)\n",
        "alpha = 0.05\n",
        "\n",
        "# Compare p-value to alpha\n",
        "if p < alpha:\n",
        "    print(\"Reject the null hypothesis: There is a significant association between Classification and Management.\")\n",
        "else:\n",
        "    print(\"Fail to reject the null hypothesis: There is no significant association between Classification and Management.\")\n"
      ],
      "metadata": {
        "colab": {
          "base_uri": "https://localhost:8080/"
        },
        "id": "0R_lXNJxovdI",
        "outputId": "75e7ee5b-6cef-4ca8-80af-59c1b1fdd6c4"
      },
      "execution_count": 9,
      "outputs": [
        {
          "output_type": "stream",
          "name": "stdout",
          "text": [
            "Reject the null hypothesis: There is a significant association between Classification and Management.\n"
          ]
        }
      ]
    },
    {
      "cell_type": "markdown",
      "source": [
        "Hypothesis 3 -\n"
      ],
      "metadata": {
        "id": "pIopoiQss6a4"
      }
    },
    {
      "cell_type": "code",
      "source": [
        "\n",
        "\n",
        "# Perform one-way ANOVA to compare means of \"Tonnes\" across different \"Management\" categories\n",
        "anova_result = stats.f_oneway(*[group['Tonnes'] for name, group in df.groupby('Management')])\n",
        "\n",
        "# Choose a significance level (alpha)\n",
        "alpha = 0.05\n",
        "\n",
        "# Compare p-value to alpha\n",
        "if anova_result.pvalue < alpha:\n",
        "    print(\"Reject the null hypothesis: There is a significant difference in the mean 'Tonnes' across different 'Management' categories.\")\n",
        "else:\n",
        "    print(\"Fail to reject the null hypothesis: There is no significant difference in the mean 'Tonnes' across different 'Management' categories.\")\n"
      ],
      "metadata": {
        "colab": {
          "base_uri": "https://localhost:8080/"
        },
        "id": "V1ivxmFp6YLK",
        "outputId": "dada6688-834d-4e41-d606-42ea0835af4e"
      },
      "execution_count": 12,
      "outputs": [
        {
          "output_type": "stream",
          "name": "stdout",
          "text": [
            "Reject the null hypothesis: There is a significant difference in the mean 'Tonnes' across different 'Management' categories.\n"
          ]
        }
      ]
    },
    {
      "cell_type": "markdown",
      "source": [
        "Correlation Analysis"
      ],
      "metadata": {
        "id": "Y0zjMcWS6WDT"
      }
    },
    {
      "cell_type": "markdown",
      "source": [
        "Correlation 1: Correlation between the waste produced and the waste management method used"
      ],
      "metadata": {
        "id": "yRfcwocvsHpr"
      }
    },
    {
      "cell_type": "code",
      "source": [
        "\n",
        "\n",
        "# Perform one-way ANOVA to compare \"Tonnes\" across different \"Category\" groups\n",
        "anova_result = stats.f_oneway(*[df['Tonnes'][df['Category'] == category] for category in df['Category'].unique()])\n",
        "\n",
        "# Choose a significance level (alpha)\n",
        "alpha = 0.05\n",
        "\n",
        "# Compare p-value to alpha\n",
        "if anova_result.pvalue < alpha:\n",
        "    print(\"Reject the null hypothesis: There is a significant difference in 'Tonnes' across different 'Category' groups.\")\n",
        "else:\n",
        "    print(\"Fail to reject the null hypothesis: There is no significant difference in 'Tonnes' across different 'Category' groups.\")\n"
      ],
      "metadata": {
        "colab": {
          "base_uri": "https://localhost:8080/"
        },
        "id": "sM2UONQVtixD",
        "outputId": "4a923d7b-04a1-4eac-a08f-03218ed3c0cd"
      },
      "execution_count": 16,
      "outputs": [
        {
          "output_type": "stream",
          "name": "stdout",
          "text": [
            "Reject the null hypothesis: There is a significant difference in 'Tonnes' across different 'Category' groups.\n"
          ]
        }
      ]
    },
    {
      "cell_type": "markdown",
      "source": [
        "Predictive Modelling"
      ],
      "metadata": {
        "id": "fIPAIXR06YsG"
      }
    },
    {
      "cell_type": "code",
      "source": [],
      "metadata": {
        "id": "e0PTwOJY6eyv"
      },
      "execution_count": null,
      "outputs": []
    },
    {
      "cell_type": "markdown",
      "source": [
        "Recommendations for better waste Management"
      ],
      "metadata": {
        "id": "vBlOqrWH6ad6"
      }
    },
    {
      "cell_type": "code",
      "source": [],
      "metadata": {
        "id": "APiQnTD36jef"
      },
      "execution_count": null,
      "outputs": []
    }
  ]
}