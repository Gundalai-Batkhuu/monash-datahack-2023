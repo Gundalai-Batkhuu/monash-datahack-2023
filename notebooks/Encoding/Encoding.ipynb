{
 "cells": [
  {
   "cell_type": "code",
   "execution_count": 1,
   "id": "fa396150",
   "metadata": {
    "scrolled": true
   },
   "outputs": [
    {
     "name": "stdout",
     "output_type": "stream",
     "text": [
      "2023-10-10 00:10:57,836 - kedro.extras.extensions.ipython - INFO - No path argument was provided. Using: C:\\Users\\Dushku\\PycharmProjects\\monash-datahack-2023\n",
      "2023-10-10 00:10:57,958 - kedro.framework.session.store - INFO - `read()` not implemented for `BaseSessionStore`. Assuming empty store.\n",
      "2023-10-10 00:10:57,978 - kedro.framework.hooks.manager - INFO - Registered hooks from 1 installed plugin(s): kedro-telemetry-0.2.5\n",
      "2023-10-10 00:10:58,037 - kedro.extras.extensions.ipython - INFO - ** Kedro project Monash datahack 2023\n",
      "2023-10-10 00:10:58,038 - kedro.extras.extensions.ipython - INFO - Defined global variable `context`, `session`, `catalog` and `pipelines`\n"
     ]
    },
    {
     "name": "stderr",
     "output_type": "stream",
     "text": [
      "C:\\Users\\Dushku\\PycharmProjects\\monash-datahack-2023\\venv\\lib\\site-packages\\kedro\\framework\\context\\context.py:344: UserWarning: Credentials not found in your Kedro project config.\n",
      "No files found in ['C:\\\\Users\\\\Dushku\\\\PycharmProjects\\\\monash-datahack-2023\\\\conf\\\\base', 'C:\\\\Users\\\\Dushku\\\\PycharmProjects\\\\monash-datahack-2023\\\\conf\\\\local'] matching the glob pattern(s): ['credentials*', 'credentials*/**', '**/credentials*']\n",
      "  warn(f\"Credentials not found in your Kedro project config.\\n{str(exc)}\")\n"
     ]
    }
   ],
   "source": [
    "%reload_kedro"
   ]
  },
  {
   "cell_type": "code",
   "execution_count": 2,
   "id": "654d7dc0",
   "metadata": {
    "scrolled": true
   },
   "outputs": [
    {
     "data": {
      "text/plain": [
       "['raw_data',\n",
       " 'preprocessed_data_with_type_classification',\n",
       " 'preprocessed_data_with_total_classification',\n",
       " 'preprocessed_data_not_recycled',\n",
       " 'preprocessed_data_08_12_13',\n",
       " 'preprocessed_data_not_08_12_13',\n",
       " 'preprocessed_data_with_mining',\n",
       " 'preprocessed_data_without_mining',\n",
       " 'preprocessed_data_19_21',\n",
       " 'preprocessed_data_not_19_21',\n",
       " 'preprocessed_data_without_australia',\n",
       " 'encoded_data_without_australia',\n",
       " 'preprocessed_data_with_australia',\n",
       " 'encoded_data_with_australia',\n",
       " 'encoded_data_19_21',\n",
       " 'encoded_data_not_19_21',\n",
       " 'encoded_data_with_type_classification',\n",
       " 'encoded_data_with_total_classification',\n",
       " 'encoded_data_without_zero_values',\n",
       " 'encoded_data_not_recycled',\n",
       " 'encoded_data_08_12_13',\n",
       " 'encoded_data_not_08_12_13',\n",
       " 'encoded_data_with_mining',\n",
       " 'encoded_data_without_mining',\n",
       " 'companies',\n",
       " 'reviews',\n",
       " 'shuttles',\n",
       " 'data_processing.preprocessed_companies',\n",
       " 'data_processing.preprocessed_shuttles',\n",
       " 'model_input_table',\n",
       " 'data_science.active_modelling_pipeline.regressor',\n",
       " 'data_science.candidate_modelling_pipeline.regressor',\n",
       " 'parameters',\n",
       " 'params:data_science',\n",
       " 'params:data_science.active_modelling_pipeline',\n",
       " 'params:data_science.active_modelling_pipeline.model_options',\n",
       " 'params:data_science.active_modelling_pipeline.model_options.test_size',\n",
       " 'params:data_science.active_modelling_pipeline.model_options.random_state',\n",
       " 'params:data_science.active_modelling_pipeline.model_options.features',\n",
       " 'params:data_science.candidate_modelling_pipeline',\n",
       " 'params:data_science.candidate_modelling_pipeline.model_options',\n",
       " 'params:data_science.candidate_modelling_pipeline.model_options.test_size',\n",
       " 'params:data_science.candidate_modelling_pipeline.model_options.random_state',\n",
       " 'params:data_science.candidate_modelling_pipeline.model_options.features']"
      ]
     },
     "execution_count": 2,
     "metadata": {},
     "output_type": "execute_result"
    }
   ],
   "source": [
    "catalog.list()"
   ]
  },
  {
   "cell_type": "code",
   "execution_count": 3,
   "id": "7944ecd2",
   "metadata": {
    "scrolled": true
   },
   "outputs": [
    {
     "name": "stdout",
     "output_type": "stream",
     "text": [
      "2023-10-10 00:10:58,068 - kedro.io.data_catalog - INFO - Loading data from `preprocessed_data_with_type_classification` (CSVDataSet)...\n"
     ]
    }
   ],
   "source": [
    "df = catalog.load('preprocessed_data_with_type_classification')"
   ]
  },
  {
   "cell_type": "code",
   "execution_count": 4,
   "id": "a75d9933",
   "metadata": {
    "scrolled": true
   },
   "outputs": [
    {
     "data": {
      "text/html": [
       "<div>\n",
       "<style scoped>\n",
       "    .dataframe tbody tr th:only-of-type {\n",
       "        vertical-align: middle;\n",
       "    }\n",
       "\n",
       "    .dataframe tbody tr th {\n",
       "        vertical-align: top;\n",
       "    }\n",
       "\n",
       "    .dataframe thead th {\n",
       "        text-align: right;\n",
       "    }\n",
       "</style>\n",
       "<table border=\"1\" class=\"dataframe\">\n",
       "  <thead>\n",
       "    <tr style=\"text-align: right;\">\n",
       "      <th></th>\n",
       "      <th>Jurisdiction</th>\n",
       "      <th>Category</th>\n",
       "      <th>Type</th>\n",
       "      <th>Management</th>\n",
       "      <th>Fate</th>\n",
       "      <th>y</th>\n",
       "      <th>ds</th>\n",
       "      <th>Sub_stream_name</th>\n",
       "      <th>Sub_stream_index</th>\n",
       "    </tr>\n",
       "  </thead>\n",
       "  <tbody>\n",
       "    <tr>\n",
       "      <th>0</th>\n",
       "      <td>ACT</td>\n",
       "      <td>Biosolids</td>\n",
       "      <td>Biosolids</td>\n",
       "      <td>Other disposal</td>\n",
       "      <td>Disposal</td>\n",
       "      <td>20186</td>\n",
       "      <td>2021-12-31</td>\n",
       "      <td>C&amp;I core</td>\n",
       "      <td>3</td>\n",
       "    </tr>\n",
       "    <tr>\n",
       "      <th>1</th>\n",
       "      <td>ACT</td>\n",
       "      <td>Biosolids</td>\n",
       "      <td>Biosolids</td>\n",
       "      <td>Recycling</td>\n",
       "      <td>Recycling</td>\n",
       "      <td>0</td>\n",
       "      <td>2021-12-31</td>\n",
       "      <td>C&amp;I core</td>\n",
       "      <td>3</td>\n",
       "    </tr>\n",
       "    <tr>\n",
       "      <th>2</th>\n",
       "      <td>ACT</td>\n",
       "      <td>Biosolids</td>\n",
       "      <td>Biosolids</td>\n",
       "      <td>Other disposal</td>\n",
       "      <td>Disposal</td>\n",
       "      <td>20186</td>\n",
       "      <td>2021-12-31</td>\n",
       "      <td>Total</td>\n",
       "      <td>9</td>\n",
       "    </tr>\n",
       "    <tr>\n",
       "      <th>3</th>\n",
       "      <td>ACT</td>\n",
       "      <td>Biosolids</td>\n",
       "      <td>Biosolids</td>\n",
       "      <td>Recycling</td>\n",
       "      <td>Recycling</td>\n",
       "      <td>0</td>\n",
       "      <td>2021-12-31</td>\n",
       "      <td>Total</td>\n",
       "      <td>9</td>\n",
       "    </tr>\n",
       "    <tr>\n",
       "      <th>4</th>\n",
       "      <td>ACT</td>\n",
       "      <td>Building and demolition materials</td>\n",
       "      <td>Asphalt</td>\n",
       "      <td>Recycling</td>\n",
       "      <td>Recycling</td>\n",
       "      <td>0</td>\n",
       "      <td>2021-12-31</td>\n",
       "      <td>C&amp;D</td>\n",
       "      <td>2</td>\n",
       "    </tr>\n",
       "  </tbody>\n",
       "</table>\n",
       "</div>"
      ],
      "text/plain": [
       "  Jurisdiction                           Category       Type      Management  \\\n",
       "0          ACT                          Biosolids  Biosolids  Other disposal   \n",
       "1          ACT                          Biosolids  Biosolids       Recycling   \n",
       "2          ACT                          Biosolids  Biosolids  Other disposal   \n",
       "3          ACT                          Biosolids  Biosolids       Recycling   \n",
       "4          ACT  Building and demolition materials    Asphalt       Recycling   \n",
       "\n",
       "        Fate      y          ds Sub_stream_name  Sub_stream_index  \n",
       "0   Disposal  20186  2021-12-31        C&I core                 3  \n",
       "1  Recycling      0  2021-12-31        C&I core                 3  \n",
       "2   Disposal  20186  2021-12-31           Total                 9  \n",
       "3  Recycling      0  2021-12-31           Total                 9  \n",
       "4  Recycling      0  2021-12-31             C&D                 2  "
      ]
     },
     "execution_count": 4,
     "metadata": {},
     "output_type": "execute_result"
    }
   ],
   "source": [
    "df.head()"
   ]
  },
  {
   "cell_type": "code",
   "execution_count": 5,
   "id": "54099a5e",
   "metadata": {
    "scrolled": false
   },
   "outputs": [
    {
     "data": {
      "text/plain": [
       "Index(['Jurisdiction', 'Category', 'Type', 'Management', 'Fate', 'y', 'ds',\n",
       "       'Sub_stream_name', 'Sub_stream_index'],\n",
       "      dtype='object')"
      ]
     },
     "execution_count": 5,
     "metadata": {},
     "output_type": "execute_result"
    }
   ],
   "source": [
    "df.columns"
   ]
  },
  {
   "cell_type": "code",
   "execution_count": 6,
   "id": "29f1cb38",
   "metadata": {
    "scrolled": true
   },
   "outputs": [
    {
     "name": "stdout",
     "output_type": "stream",
     "text": [
      "<class 'pandas.core.frame.DataFrame'>\n",
      "RangeIndex: 54227 entries, 0 to 54226\n",
      "Data columns (total 9 columns):\n",
      " #   Column            Non-Null Count  Dtype \n",
      "---  ------            --------------  ----- \n",
      " 0   Jurisdiction      54227 non-null  object\n",
      " 1   Category          54227 non-null  object\n",
      " 2   Type              54227 non-null  object\n",
      " 3   Management        54227 non-null  object\n",
      " 4   Fate              54227 non-null  object\n",
      " 5   y                 54227 non-null  int64 \n",
      " 6   ds                54227 non-null  object\n",
      " 7   Sub_stream_name   54227 non-null  object\n",
      " 8   Sub_stream_index  54227 non-null  int64 \n",
      "dtypes: int64(2), object(7)\n",
      "memory usage: 3.7+ MB\n"
     ]
    }
   ],
   "source": [
    "df.info()"
   ]
  },
  {
   "cell_type": "code",
   "execution_count": 7,
   "id": "95a8a6ed",
   "metadata": {},
   "outputs": [],
   "source": [
    "df['y'] = df['y'].astype(int)"
   ]
  },
  {
   "cell_type": "code",
   "execution_count": 8,
   "id": "852ca959",
   "metadata": {},
   "outputs": [],
   "source": [
    "from sklearn.preprocessing import LabelEncoder\n",
    "# Encoding the categorical values\n",
    "# Initialize the LabelEncoder for each categorical column\n",
    "label_encoders = {}\n",
    "\n",
    "for col in df.columns:\n",
    "    if df[col].dtype == 'object':  # Check if the column contains categorical data\n",
    "        label_encoders[col] = LabelEncoder()\n",
    "        df[col + '_encoded'] = label_encoders[col].fit_transform(df[col])\n",
    "        \n",
    "df['y'] = LabelEncoder().fit_transform(df['y'])"
   ]
  },
  {
   "cell_type": "code",
   "execution_count": 9,
   "id": "b8cc38b8",
   "metadata": {},
   "outputs": [],
   "source": [
    "def encode(df):\n",
    "    df['y'] = df['y'].astype(int)\n",
    "    label_encoders = {}\n",
    "\n",
    "    for col in df.columns:\n",
    "        if df[col].dtype == 'object':  # Check if the column contains categorical data\n",
    "            label_encoders[col] = LabelEncoder()\n",
    "            df[col + '_encoded'] = label_encoders[col].fit_transform(df[col])\n",
    "\n",
    "    df['y'] = LabelEncoder().fit_transform(df['y'])\n",
    "    \n",
    "    return df"
   ]
  },
  {
   "cell_type": "code",
   "execution_count": 10,
   "id": "e0fdc427",
   "metadata": {},
   "outputs": [
    {
     "data": {
      "text/plain": [
       "Index(['Jurisdiction', 'Category', 'Type', 'Management', 'Fate', 'y', 'ds',\n",
       "       'Sub_stream_name', 'Sub_stream_index', 'Jurisdiction_encoded',\n",
       "       'Category_encoded', 'Type_encoded', 'Management_encoded',\n",
       "       'Fate_encoded', 'ds_encoded', 'Sub_stream_name_encoded'],\n",
       "      dtype='object')"
      ]
     },
     "execution_count": 10,
     "metadata": {},
     "output_type": "execute_result"
    }
   ],
   "source": [
    "df.columns"
   ]
  },
  {
   "cell_type": "code",
   "execution_count": 11,
   "id": "f37cafe6",
   "metadata": {},
   "outputs": [],
   "source": [
    "# Selecting encoded variables along with the y variable\n",
    "df = df[['y', 'Jurisdiction_encoded', \n",
    "         'Sub_stream_name', \n",
    "         'Sub_stream_index', \n",
    "         'Category_encoded', 'Type_encoded', 'Management_encoded', 'Fate_encoded', 'ds_encoded']]"
   ]
  },
  {
   "cell_type": "code",
   "execution_count": 12,
   "id": "c4ee657a",
   "metadata": {},
   "outputs": [
    {
     "name": "stdout",
     "output_type": "stream",
     "text": [
      "<class 'pandas.core.frame.DataFrame'>\n",
      "RangeIndex: 54227 entries, 0 to 54226\n",
      "Data columns (total 9 columns):\n",
      " #   Column                Non-Null Count  Dtype \n",
      "---  ------                --------------  ----- \n",
      " 0   y                     54227 non-null  int64 \n",
      " 1   Jurisdiction_encoded  54227 non-null  int32 \n",
      " 2   Sub_stream_name       54227 non-null  object\n",
      " 3   Sub_stream_index      54227 non-null  int64 \n",
      " 4   Category_encoded      54227 non-null  int32 \n",
      " 5   Type_encoded          54227 non-null  int32 \n",
      " 6   Management_encoded    54227 non-null  int32 \n",
      " 7   Fate_encoded          54227 non-null  int32 \n",
      " 8   ds_encoded            54227 non-null  int32 \n",
      "dtypes: int32(6), int64(2), object(1)\n",
      "memory usage: 2.5+ MB\n"
     ]
    }
   ],
   "source": [
    "df.info()"
   ]
  },
  {
   "cell_type": "code",
   "execution_count": 13,
   "id": "eadfaf64",
   "metadata": {
    "scrolled": true
   },
   "outputs": [
    {
     "name": "stdout",
     "output_type": "stream",
     "text": [
      "2023-10-10 00:10:58,566 - kedro.io.data_catalog - INFO - Saving data to `encoded_data_with_type_classification` (CSVDataSet)...\n"
     ]
    }
   ],
   "source": [
    "catalog.save(\"encoded_data_with_type_classification\", df)"
   ]
  },
  {
   "cell_type": "code",
   "execution_count": 14,
   "id": "f237d927",
   "metadata": {
    "scrolled": false
   },
   "outputs": [
    {
     "name": "stdout",
     "output_type": "stream",
     "text": [
      "2023-10-10 00:10:58,627 - kedro.io.data_catalog - INFO - Loading data from `preprocessed_data_with_total_classification` (CSVDataSet)...\n"
     ]
    }
   ],
   "source": [
    "df = catalog.load('preprocessed_data_with_total_classification')"
   ]
  },
  {
   "cell_type": "code",
   "execution_count": 15,
   "id": "086d946e",
   "metadata": {},
   "outputs": [],
   "source": [
    "df['y'] = df['y'].astype(int)"
   ]
  },
  {
   "cell_type": "code",
   "execution_count": 16,
   "id": "a196e657",
   "metadata": {},
   "outputs": [],
   "source": [
    "from sklearn.preprocessing import LabelEncoder\n",
    "# Encoding the categorical values\n",
    "# Initialize the LabelEncoder for each categorical column\n",
    "label_encoders = {}\n",
    "\n",
    "for col in df.columns:\n",
    "    if df[col].dtype == 'object':  # Check if the column contains categorical data\n",
    "        label_encoders[col] = LabelEncoder()\n",
    "        df[col + '_encoded'] = label_encoders[col].fit_transform(df[col])\n",
    "        \n",
    "df['y'] = LabelEncoder().fit_transform(df['y'])"
   ]
  },
  {
   "cell_type": "code",
   "execution_count": 17,
   "id": "1584f5d8",
   "metadata": {},
   "outputs": [
    {
     "data": {
      "text/plain": [
       "Index(['Jurisdiction', 'Category', 'Type', 'Total type', 'Management', 'Fate',\n",
       "       'y', 'ds', 'Sub-stream', 'Jurisdiction_encoded', 'Category_encoded',\n",
       "       'Type_encoded', 'Total type_encoded', 'Management_encoded',\n",
       "       'Fate_encoded', 'ds_encoded', 'Sub-stream_encoded'],\n",
       "      dtype='object')"
      ]
     },
     "execution_count": 17,
     "metadata": {},
     "output_type": "execute_result"
    }
   ],
   "source": [
    "df.columns"
   ]
  },
  {
   "cell_type": "code",
   "execution_count": 18,
   "id": "bde80132",
   "metadata": {},
   "outputs": [],
   "source": [
    "# Selecting encoded variables along with the y variable\n",
    "df = df[['y', 'Jurisdiction_encoded', 'Sub-stream', 'Total type', 'Category_encoded', 'Type_encoded', 'Management_encoded', 'Fate_encoded', 'ds_encoded']]"
   ]
  },
  {
   "cell_type": "code",
   "execution_count": 19,
   "id": "3dd7417e",
   "metadata": {},
   "outputs": [
    {
     "name": "stdout",
     "output_type": "stream",
     "text": [
      "2023-10-10 00:10:58,706 - kedro.io.data_catalog - INFO - Saving data to `encoded_data_with_total_classification` (CSVDataSet)...\n"
     ]
    }
   ],
   "source": [
    "catalog.save(\"encoded_data_with_total_classification\", df)"
   ]
  },
  {
   "cell_type": "code",
   "execution_count": 20,
   "id": "6952a979",
   "metadata": {
    "scrolled": true
   },
   "outputs": [
    {
     "name": "stdout",
     "output_type": "stream",
     "text": [
      "2023-10-10 00:10:58,721 - kedro.io.data_catalog - INFO - Loading data from `preprocessed_data_not_recycled` (CSVDataSet)...\n"
     ]
    }
   ],
   "source": [
    "df = catalog.load('preprocessed_data_not_recycled')"
   ]
  },
  {
   "cell_type": "code",
   "execution_count": 21,
   "id": "edfdc02e",
   "metadata": {},
   "outputs": [],
   "source": [
    "df['y'] = df['y'].astype(int)"
   ]
  },
  {
   "cell_type": "code",
   "execution_count": 22,
   "id": "760b9b5a",
   "metadata": {},
   "outputs": [
    {
     "name": "stdout",
     "output_type": "stream",
     "text": [
      "Unique values for Jurisdiction:\n",
      "['ACT' 'NSW' 'NT' 'Qld' 'SA' 'Tas' 'Vic' 'WA']\n",
      "\n",
      "Unique values for Category:\n",
      "['Biosolids' 'Building and demolition materials' 'Glass'\n",
      " 'Hazardous wastes' 'Metals' 'Mining' 'Organics' 'Paper & cardboard'\n",
      " 'Plastics' 'Textiles, leather & rubber (excl. tyres)' 'Total'\n",
      " 'Unclassified materials' 'Ash']\n",
      "\n",
      "Unique values for Type:\n",
      "['Biosolids' nan\n",
      " 'Soil, sand and rock not contaminated above any threshold requiring classification as contaminated soils (N120)'\n",
      " 'Acids (B)' 'Alkalis (C)' 'Asbestos (N220)'\n",
      " 'Clinical and pharmaceutical (R)' 'Contaminated soils (N120)'\n",
      " 'Food-derived hazardous wastes (K100, K110)' 'Inorganic chemicals (D)'\n",
      " 'Oils (J)' 'Organic chemicals (M)' 'Organic solvents (G)' 'Other'\n",
      " 'Other hazardous organic wastes (K140, K190)'\n",
      " 'Other miscellaneous (other T)' 'Other soil/sludges (other N)'\n",
      " 'Paints, resins, inks, organic sludges (F)' 'Pesticides (H)'\n",
      " 'Plating and heat treatment (A)' 'Reactive chemicals (E)' 'Tyres (T140)'\n",
      " 'Food organics' 'Garden organics' 'Other organics' 'Timber' 'Ash'\n",
      " 'Iron and steel' 'High density polyethylene (HDPE) (2)'\n",
      " 'Unclassified materials' 'Asphalt' 'Bricks, concrete and pavers'\n",
      " 'Plasterboard & cement sheeting' 'Aluminium' 'Rubble'\n",
      " 'Low density polyethylene (LDPE) (4)' 'Other plastics (7)'\n",
      " 'Polyethylene terephthalate (PET) (1)' 'Polypropylene (PP) (5)'\n",
      " 'Polystyrene (PS) (6)' 'Polyvinyl chloride (PVC) (3)'\n",
      " 'Leather & rubber (excl. tyres)' 'Textiles']\n",
      "\n",
      "Unique values for Classification:\n",
      "['Type' 'Category' 'Total']\n",
      "\n",
      "Unique values for Total type:\n",
      "[nan 'Biosolids total' 'Hazwaste total' 'Mining waste total'\n",
      " 'All other waste total' 'Ash waste total']\n",
      "\n",
      "Unique values for Stream:\n",
      "['C&I' 'Total' 'C&D' 'MSW']\n",
      "\n",
      "Unique values for Management:\n",
      "['Other disposal' 'Waste reuse' 'Landfill' 'Energy from waste facility'\n",
      " 'Treatment' 'Unknown']\n",
      "\n",
      "Unique values for Fate:\n",
      "['Disposal' 'Waste reuse' 'Energy recovery' 'Unknown' 'Long-term storage']\n",
      "\n",
      "Unique values for Core or non-core:\n",
      "['Core waste' 'Non-core waste']\n",
      "\n",
      "Unique values for Sub-stream:\n",
      "['03 C&I core' '09 Total' '02 C&D' '01 MSW' '08 C&I (mining)'\n",
      " '04 C&I (electricity generation)']\n",
      "\n",
      "Unique values for Cat. order:\n",
      "['03 Organics' '01 Building and demolition materials' '06 Glass'\n",
      " '09 Hazardous wastes' '02 Metals' '15 Mining' '04 Paper & cardboard'\n",
      " '05 Plastics' '07 Textiles, leather & rubber (excl. tyres)' '11 Total'\n",
      " '10 Unclassified materials' '08 Ash']\n",
      "\n",
      "Unique values for Cat. no.:\n",
      "['C3' 'C1' 'C6' 'C9' 'C2' 'C15' 'C4' 'C5' 'C7' 'C11' 'C10' 'C8']\n",
      "\n",
      "Unique values for Type order:\n",
      "['14 Biosolids' nan\n",
      " '06 Soil, sand and rock not contaminated above any threshold requiring classification as contaminated soils (N120)'\n",
      " '33 Acids (B)' '34 Alkalis (C)' '45 Asbestos (N220)'\n",
      " '47 Clinical and pharmaceutical (R)' '44 Contaminated soils (N120)'\n",
      " '41 Food-derived hazardous wastes (K100, K110)'\n",
      " '35 Inorganic chemicals (D)' '40 Oils (J)' '43 Organic chemicals (M)'\n",
      " '38 Organic solvents (G)' '50 Other'\n",
      " '42 Other hazardous organic wastes (K140, K190)'\n",
      " '49 Other miscellaneous (other T)' '46 Other soil/sludges (other N)'\n",
      " '37 Paints, resins, inks, organic sludges (F)' '39 Pesticides (H)'\n",
      " '32 Plating and heat treatment (A)' '36 Reactive chemicals (E)'\n",
      " '48 Tyres (T140)' '10 Food organics' '11 Garden organics'\n",
      " '13 Other organics' '12 Timber' '31 Ash' '08 Iron and steel'\n",
      " '20 High density polyethylene (HDPE) (2)' '51 Unclassified materials'\n",
      " '01 Asphalt' '02 Bricks, concrete and pavers'\n",
      " '04 Plasterboard & cement sheeting' '07 Aluminium' '05 Rubble'\n",
      " '22 Low density polyethylene (LDPE) (4)' '25 Other plastics (7)'\n",
      " '19 Polyethylene terephthalate (PET) (1)' '23 Polypropylene (PP) (5)'\n",
      " '24 Polystyrene (PS) (6)' '21 Polyvinyl chloride (PVC) (3)'\n",
      " '30 Leather & rubber (excl. tyres)' '29 Textiles']\n",
      "\n",
      "Unique values for Type no.:\n",
      "['T14' nan 'T06' 'T33' 'T34' 'T45' 'T47' 'T44' 'T41' 'T35' 'T40' 'T43'\n",
      " 'T38' 'T50' 'T42' 'T49' 'T46' 'T37' 'T39' 'T32' 'T36' 'T48' 'T10' 'T11'\n",
      " 'T13' 'T12' 'T31' 'T08' 'T20' 'T51' 'T01' 'T02' 'T04' 'T07' 'T05' 'T22'\n",
      " 'T25' 'T19' 'T23' 'T24' 'T21' 'T30' 'T29']\n",
      "\n",
      "Unique values for Sub_stream_name:\n",
      "['C&I core' 'Total' 'C&D' 'MSW' 'C&I (mining)'\n",
      " 'C&I (electricity generation)']\n",
      "\n",
      "Unique values for Sub_stream_index:\n",
      "[3 9 2 1 8 4]\n",
      "\n",
      "Unique values for Start date:\n",
      "['2020-01-01' '2019-01-01' '2018-01-01' '2017-01-01' '2016-01-01'\n",
      " '2015-01-01' '2014-01-01' '2013-01-01' '2012-01-01' '2011-01-01'\n",
      " '2010-01-01' '2009-01-01' '2008-01-01' '2007-01-01' '2006-01-01']\n",
      "\n",
      "Unique values for ds:\n",
      "['2021-12-31' '2020-12-31' '2019-12-31' '2018-12-31' '2017-12-31'\n",
      " '2016-12-31' '2015-12-31' '2014-12-31' '2013-12-31' '2012-12-31'\n",
      " '2011-12-31' '2010-12-31' '2009-12-31' '2008-12-31' '2007-12-31']\n",
      "\n"
     ]
    }
   ],
   "source": [
    "# List of columns to exclude\n",
    "exclude_columns = ['y', 'ds_encoded', ]\n",
    "\n",
    "# Create a dictionary to store unique values for each column\n",
    "unique_values_dict = {}\n",
    "\n",
    "# Loop through columns and get unique values\n",
    "for column in df.columns:\n",
    "    if column not in exclude_columns:\n",
    "        unique_values_dict[column] = df[column].unique()\n",
    "\n",
    "# Print unique values for each column\n",
    "for column, unique_values in unique_values_dict.items():\n",
    "    print(f\"Unique values for {column}:\")\n",
    "    print(unique_values)\n",
    "    print()"
   ]
  },
  {
   "cell_type": "code",
   "execution_count": 23,
   "id": "0f8e750d",
   "metadata": {},
   "outputs": [],
   "source": [
    "from sklearn.preprocessing import LabelEncoder\n",
    "# Encoding the categorical values\n",
    "# Initialize the LabelEncoder for each categorical column\n",
    "label_encoders = {}\n",
    "\n",
    "for col in df.columns:\n",
    "    if df[col].dtype == 'object':  # Check if the column contains categorical data\n",
    "        label_encoders[col] = LabelEncoder()\n",
    "        df[col + '_encoded'] = label_encoders[col].fit_transform(df[col])\n",
    "        \n",
    "df['y'] = LabelEncoder().fit_transform(df['y'])"
   ]
  },
  {
   "cell_type": "code",
   "execution_count": 24,
   "id": "c0da7922",
   "metadata": {},
   "outputs": [],
   "source": [
    "import joblib\n",
    "import os\n",
    "\n",
    "# Define the folder name within your project\n",
    "folder_name = 'monash-datahack-2023/app/encoders'\n",
    "\n",
    "# Create the full path to the folder\n",
    "folder_path = os.path.join(os.getcwd(), folder_name)\n",
    "\n",
    "# Ensure that the folder exists; if not, create it\n",
    "if not os.path.exists(folder_path):\n",
    "    os.makedirs(folder_path)\n",
    "\n",
    "# Save the LabelEncoder objects to separate files\n",
    "for col, encoder in label_encoders.items():\n",
    "    encoder_filename = f'{col}_label_encoder.pkl'\n",
    "    encoder_path = os.path.join(folder_path, encoder_filename)\n",
    "    joblib.dump(encoder, encoder_path)"
   ]
  },
  {
   "cell_type": "code",
   "execution_count": 25,
   "id": "449e7b3f",
   "metadata": {},
   "outputs": [
    {
     "data": {
      "text/plain": [
       "Index(['Jurisdiction', 'Category', 'Type', 'Classification', 'Total type',\n",
       "       'Stream', 'Management', 'Fate', 'y', 'Core or non-core', 'Sub-stream',\n",
       "       'Cat. order', 'Cat. no.', 'Type order', 'Type no.', 'Sub_stream_name',\n",
       "       'Sub_stream_index', 'Start date', 'ds', 'Jurisdiction_encoded',\n",
       "       'Category_encoded', 'Type_encoded', 'Classification_encoded',\n",
       "       'Total type_encoded', 'Stream_encoded', 'Management_encoded',\n",
       "       'Fate_encoded', 'Core or non-core_encoded', 'Sub-stream_encoded',\n",
       "       'Cat. order_encoded', 'Cat. no._encoded', 'Type order_encoded',\n",
       "       'Type no._encoded', 'Sub_stream_name_encoded', 'Start date_encoded',\n",
       "       'ds_encoded'],\n",
       "      dtype='object')"
      ]
     },
     "execution_count": 25,
     "metadata": {},
     "output_type": "execute_result"
    }
   ],
   "source": [
    "df.columns"
   ]
  },
  {
   "cell_type": "code",
   "execution_count": 26,
   "id": "4692c7c1",
   "metadata": {},
   "outputs": [],
   "source": [
    "# Selecting encoded variables along with the y variable\n",
    "df = df[['y', 'Jurisdiction_encoded', 'Sub_stream_name_encoded', 'Category_encoded', 'Type_encoded', 'Management_encoded', 'Fate_encoded', 'ds_encoded']]"
   ]
  },
  {
   "cell_type": "code",
   "execution_count": 27,
   "id": "043026d6",
   "metadata": {},
   "outputs": [
    {
     "data": {
      "text/html": [
       "<div>\n",
       "<style scoped>\n",
       "    .dataframe tbody tr th:only-of-type {\n",
       "        vertical-align: middle;\n",
       "    }\n",
       "\n",
       "    .dataframe tbody tr th {\n",
       "        vertical-align: top;\n",
       "    }\n",
       "\n",
       "    .dataframe thead th {\n",
       "        text-align: right;\n",
       "    }\n",
       "</style>\n",
       "<table border=\"1\" class=\"dataframe\">\n",
       "  <thead>\n",
       "    <tr style=\"text-align: right;\">\n",
       "      <th></th>\n",
       "      <th>y</th>\n",
       "      <th>Jurisdiction_encoded</th>\n",
       "      <th>Sub_stream_name_encoded</th>\n",
       "      <th>Category_encoded</th>\n",
       "      <th>Type_encoded</th>\n",
       "      <th>Management_encoded</th>\n",
       "      <th>Fate_encoded</th>\n",
       "      <th>ds_encoded</th>\n",
       "    </tr>\n",
       "  </thead>\n",
       "  <tbody>\n",
       "    <tr>\n",
       "      <th>0</th>\n",
       "      <td>4737</td>\n",
       "      <td>0</td>\n",
       "      <td>3</td>\n",
       "      <td>1</td>\n",
       "      <td>6</td>\n",
       "      <td>2</td>\n",
       "      <td>0</td>\n",
       "      <td>14</td>\n",
       "    </tr>\n",
       "    <tr>\n",
       "      <th>1</th>\n",
       "      <td>4737</td>\n",
       "      <td>0</td>\n",
       "      <td>5</td>\n",
       "      <td>1</td>\n",
       "      <td>6</td>\n",
       "      <td>2</td>\n",
       "      <td>0</td>\n",
       "      <td>14</td>\n",
       "    </tr>\n",
       "    <tr>\n",
       "      <th>2</th>\n",
       "      <td>4737</td>\n",
       "      <td>0</td>\n",
       "      <td>3</td>\n",
       "      <td>1</td>\n",
       "      <td>42</td>\n",
       "      <td>2</td>\n",
       "      <td>0</td>\n",
       "      <td>14</td>\n",
       "    </tr>\n",
       "    <tr>\n",
       "      <th>3</th>\n",
       "      <td>4737</td>\n",
       "      <td>0</td>\n",
       "      <td>5</td>\n",
       "      <td>1</td>\n",
       "      <td>42</td>\n",
       "      <td>2</td>\n",
       "      <td>0</td>\n",
       "      <td>14</td>\n",
       "    </tr>\n",
       "    <tr>\n",
       "      <th>4</th>\n",
       "      <td>4737</td>\n",
       "      <td>0</td>\n",
       "      <td>3</td>\n",
       "      <td>1</td>\n",
       "      <td>42</td>\n",
       "      <td>2</td>\n",
       "      <td>0</td>\n",
       "      <td>14</td>\n",
       "    </tr>\n",
       "  </tbody>\n",
       "</table>\n",
       "</div>"
      ],
      "text/plain": [
       "      y  Jurisdiction_encoded  Sub_stream_name_encoded  Category_encoded  \\\n",
       "0  4737                     0                        3                 1   \n",
       "1  4737                     0                        5                 1   \n",
       "2  4737                     0                        3                 1   \n",
       "3  4737                     0                        5                 1   \n",
       "4  4737                     0                        3                 1   \n",
       "\n",
       "   Type_encoded  Management_encoded  Fate_encoded  ds_encoded  \n",
       "0             6                   2             0          14  \n",
       "1             6                   2             0          14  \n",
       "2            42                   2             0          14  \n",
       "3            42                   2             0          14  \n",
       "4            42                   2             0          14  "
      ]
     },
     "execution_count": 27,
     "metadata": {},
     "output_type": "execute_result"
    }
   ],
   "source": [
    "df.head()"
   ]
  },
  {
   "cell_type": "code",
   "execution_count": 28,
   "id": "c05b8848",
   "metadata": {},
   "outputs": [
    {
     "name": "stdout",
     "output_type": "stream",
     "text": [
      "2023-10-10 00:10:58,973 - kedro.io.data_catalog - INFO - Saving data to `encoded_data_not_recycled` (CSVDataSet)...\n"
     ]
    }
   ],
   "source": [
    "catalog.save(\"encoded_data_not_recycled\", df)"
   ]
  },
  {
   "cell_type": "code",
   "execution_count": 29,
   "id": "59ef1933",
   "metadata": {},
   "outputs": [],
   "source": [
    "preprocessed_data_names = ['preprocessed_data_08_12_13', \n",
    "                           'preprocessed_data_not_08_12_13', \n",
    "                           'preprocessed_data_with_mining', \n",
    "                           'preprocessed_data_without_mining',\n",
    "                           'preprocessed_data_19_21',\n",
    "                           'preprocessed_data_not_19_21',\n",
    "                           'preprocessed_data_without_australia',\n",
    "                          'preprocessed_data_with_australia']\n",
    "encoded_data_names = ['encoded_data_08_12_13', \n",
    "                      'encoded_data_not_08_12_13', \n",
    "                      'encoded_data_with_mining', \n",
    "                      'encoded_data_without_mining',\n",
    "                      'encoded_data_19_21',\n",
    "                      'encoded_data_not_19_21',\n",
    "                      'encoded_data_without_australia',\n",
    "                      'encoded_data_with_australia',\n",
    "                     ]"
   ]
  },
  {
   "cell_type": "code",
   "execution_count": 30,
   "id": "b72acf04",
   "metadata": {},
   "outputs": [
    {
     "name": "stdout",
     "output_type": "stream",
     "text": [
      "2023-10-10 00:10:59,049 - kedro.io.data_catalog - INFO - Loading data from `preprocessed_data_08_12_13` (CSVDataSet)...\n"
     ]
    },
    {
     "ename": "KeyError",
     "evalue": "\"['Sub-stream'] not in index\"",
     "output_type": "error",
     "traceback": [
      "\u001b[1;31m---------------------------------------------------------------------------\u001b[0m",
      "\u001b[1;31mKeyError\u001b[0m                                  Traceback (most recent call last)",
      "\u001b[1;32m~\\AppData\\Local\\Temp\\ipykernel_22708\\33616012.py\u001b[0m in \u001b[0;36m<cell line: 1>\u001b[1;34m()\u001b[0m\n\u001b[0;32m      1\u001b[0m \u001b[1;32mfor\u001b[0m \u001b[0mi\u001b[0m \u001b[1;32min\u001b[0m \u001b[0mrange\u001b[0m\u001b[1;33m(\u001b[0m\u001b[0mlen\u001b[0m\u001b[1;33m(\u001b[0m\u001b[0mpreprocessed_data_names\u001b[0m\u001b[1;33m)\u001b[0m\u001b[1;33m)\u001b[0m\u001b[1;33m:\u001b[0m\u001b[1;33m\u001b[0m\u001b[1;33m\u001b[0m\u001b[0m\n\u001b[0;32m      2\u001b[0m     \u001b[0mdf\u001b[0m \u001b[1;33m=\u001b[0m \u001b[0mencode\u001b[0m\u001b[1;33m(\u001b[0m\u001b[0mcatalog\u001b[0m\u001b[1;33m.\u001b[0m\u001b[0mload\u001b[0m\u001b[1;33m(\u001b[0m\u001b[0mpreprocessed_data_names\u001b[0m\u001b[1;33m[\u001b[0m\u001b[0mi\u001b[0m\u001b[1;33m]\u001b[0m\u001b[1;33m)\u001b[0m\u001b[1;33m)\u001b[0m\u001b[1;33m\u001b[0m\u001b[1;33m\u001b[0m\u001b[0m\n\u001b[1;32m----> 3\u001b[1;33m     \u001b[0mdf\u001b[0m \u001b[1;33m=\u001b[0m \u001b[0mdf\u001b[0m\u001b[1;33m[\u001b[0m\u001b[1;33m[\u001b[0m\u001b[1;34m'y'\u001b[0m\u001b[1;33m,\u001b[0m \u001b[1;34m'Jurisdiction_encoded'\u001b[0m\u001b[1;33m,\u001b[0m \u001b[1;34m'Sub-stream'\u001b[0m\u001b[1;33m,\u001b[0m \u001b[1;34m'Category_encoded'\u001b[0m\u001b[1;33m,\u001b[0m \u001b[1;34m'Type_encoded'\u001b[0m\u001b[1;33m,\u001b[0m \u001b[1;34m'Management_encoded'\u001b[0m\u001b[1;33m,\u001b[0m \u001b[1;34m'Fate_encoded'\u001b[0m\u001b[1;33m,\u001b[0m \u001b[1;34m'ds_encoded'\u001b[0m\u001b[1;33m]\u001b[0m\u001b[1;33m]\u001b[0m\u001b[1;33m\u001b[0m\u001b[1;33m\u001b[0m\u001b[0m\n\u001b[0m\u001b[0;32m      4\u001b[0m     \u001b[0mcatalog\u001b[0m\u001b[1;33m.\u001b[0m\u001b[0msave\u001b[0m\u001b[1;33m(\u001b[0m\u001b[0mencoded_data_names\u001b[0m\u001b[1;33m[\u001b[0m\u001b[0mi\u001b[0m\u001b[1;33m]\u001b[0m\u001b[1;33m,\u001b[0m\u001b[0mdf\u001b[0m\u001b[1;33m)\u001b[0m\u001b[1;33m\u001b[0m\u001b[1;33m\u001b[0m\u001b[0m\n",
      "\u001b[1;32m~\\PycharmProjects\\monash-datahack-2023\\venv\\lib\\site-packages\\pandas\\core\\frame.py\u001b[0m in \u001b[0;36m__getitem__\u001b[1;34m(self, key)\u001b[0m\n\u001b[0;32m   3811\u001b[0m             \u001b[1;32mif\u001b[0m \u001b[0mis_iterator\u001b[0m\u001b[1;33m(\u001b[0m\u001b[0mkey\u001b[0m\u001b[1;33m)\u001b[0m\u001b[1;33m:\u001b[0m\u001b[1;33m\u001b[0m\u001b[1;33m\u001b[0m\u001b[0m\n\u001b[0;32m   3812\u001b[0m                 \u001b[0mkey\u001b[0m \u001b[1;33m=\u001b[0m \u001b[0mlist\u001b[0m\u001b[1;33m(\u001b[0m\u001b[0mkey\u001b[0m\u001b[1;33m)\u001b[0m\u001b[1;33m\u001b[0m\u001b[1;33m\u001b[0m\u001b[0m\n\u001b[1;32m-> 3813\u001b[1;33m             \u001b[0mindexer\u001b[0m \u001b[1;33m=\u001b[0m \u001b[0mself\u001b[0m\u001b[1;33m.\u001b[0m\u001b[0mcolumns\u001b[0m\u001b[1;33m.\u001b[0m\u001b[0m_get_indexer_strict\u001b[0m\u001b[1;33m(\u001b[0m\u001b[0mkey\u001b[0m\u001b[1;33m,\u001b[0m \u001b[1;34m\"columns\"\u001b[0m\u001b[1;33m)\u001b[0m\u001b[1;33m[\u001b[0m\u001b[1;36m1\u001b[0m\u001b[1;33m]\u001b[0m\u001b[1;33m\u001b[0m\u001b[1;33m\u001b[0m\u001b[0m\n\u001b[0m\u001b[0;32m   3814\u001b[0m \u001b[1;33m\u001b[0m\u001b[0m\n\u001b[0;32m   3815\u001b[0m         \u001b[1;31m# take() does not accept boolean indexers\u001b[0m\u001b[1;33m\u001b[0m\u001b[1;33m\u001b[0m\u001b[0m\n",
      "\u001b[1;32m~\\PycharmProjects\\monash-datahack-2023\\venv\\lib\\site-packages\\pandas\\core\\indexes\\base.py\u001b[0m in \u001b[0;36m_get_indexer_strict\u001b[1;34m(self, key, axis_name)\u001b[0m\n\u001b[0;32m   6068\u001b[0m             \u001b[0mkeyarr\u001b[0m\u001b[1;33m,\u001b[0m \u001b[0mindexer\u001b[0m\u001b[1;33m,\u001b[0m \u001b[0mnew_indexer\u001b[0m \u001b[1;33m=\u001b[0m \u001b[0mself\u001b[0m\u001b[1;33m.\u001b[0m\u001b[0m_reindex_non_unique\u001b[0m\u001b[1;33m(\u001b[0m\u001b[0mkeyarr\u001b[0m\u001b[1;33m)\u001b[0m\u001b[1;33m\u001b[0m\u001b[1;33m\u001b[0m\u001b[0m\n\u001b[0;32m   6069\u001b[0m \u001b[1;33m\u001b[0m\u001b[0m\n\u001b[1;32m-> 6070\u001b[1;33m         \u001b[0mself\u001b[0m\u001b[1;33m.\u001b[0m\u001b[0m_raise_if_missing\u001b[0m\u001b[1;33m(\u001b[0m\u001b[0mkeyarr\u001b[0m\u001b[1;33m,\u001b[0m \u001b[0mindexer\u001b[0m\u001b[1;33m,\u001b[0m \u001b[0maxis_name\u001b[0m\u001b[1;33m)\u001b[0m\u001b[1;33m\u001b[0m\u001b[1;33m\u001b[0m\u001b[0m\n\u001b[0m\u001b[0;32m   6071\u001b[0m \u001b[1;33m\u001b[0m\u001b[0m\n\u001b[0;32m   6072\u001b[0m         \u001b[0mkeyarr\u001b[0m \u001b[1;33m=\u001b[0m \u001b[0mself\u001b[0m\u001b[1;33m.\u001b[0m\u001b[0mtake\u001b[0m\u001b[1;33m(\u001b[0m\u001b[0mindexer\u001b[0m\u001b[1;33m)\u001b[0m\u001b[1;33m\u001b[0m\u001b[1;33m\u001b[0m\u001b[0m\n",
      "\u001b[1;32m~\\PycharmProjects\\monash-datahack-2023\\venv\\lib\\site-packages\\pandas\\core\\indexes\\base.py\u001b[0m in \u001b[0;36m_raise_if_missing\u001b[1;34m(self, key, indexer, axis_name)\u001b[0m\n\u001b[0;32m   6131\u001b[0m \u001b[1;33m\u001b[0m\u001b[0m\n\u001b[0;32m   6132\u001b[0m             \u001b[0mnot_found\u001b[0m \u001b[1;33m=\u001b[0m \u001b[0mlist\u001b[0m\u001b[1;33m(\u001b[0m\u001b[0mensure_index\u001b[0m\u001b[1;33m(\u001b[0m\u001b[0mkey\u001b[0m\u001b[1;33m)\u001b[0m\u001b[1;33m[\u001b[0m\u001b[0mmissing_mask\u001b[0m\u001b[1;33m.\u001b[0m\u001b[0mnonzero\u001b[0m\u001b[1;33m(\u001b[0m\u001b[1;33m)\u001b[0m\u001b[1;33m[\u001b[0m\u001b[1;36m0\u001b[0m\u001b[1;33m]\u001b[0m\u001b[1;33m]\u001b[0m\u001b[1;33m.\u001b[0m\u001b[0munique\u001b[0m\u001b[1;33m(\u001b[0m\u001b[1;33m)\u001b[0m\u001b[1;33m)\u001b[0m\u001b[1;33m\u001b[0m\u001b[1;33m\u001b[0m\u001b[0m\n\u001b[1;32m-> 6133\u001b[1;33m             \u001b[1;32mraise\u001b[0m \u001b[0mKeyError\u001b[0m\u001b[1;33m(\u001b[0m\u001b[1;34mf\"{not_found} not in index\"\u001b[0m\u001b[1;33m)\u001b[0m\u001b[1;33m\u001b[0m\u001b[1;33m\u001b[0m\u001b[0m\n\u001b[0m\u001b[0;32m   6134\u001b[0m \u001b[1;33m\u001b[0m\u001b[0m\n\u001b[0;32m   6135\u001b[0m     \u001b[1;33m@\u001b[0m\u001b[0moverload\u001b[0m\u001b[1;33m\u001b[0m\u001b[1;33m\u001b[0m\u001b[0m\n",
      "\u001b[1;31mKeyError\u001b[0m: \"['Sub-stream'] not in index\""
     ]
    }
   ],
   "source": [
    "for i in range(len(preprocessed_data_names)):\n",
    "    df = encode(catalog.load(preprocessed_data_names[i]))\n",
    "    df = df[['y', 'Jurisdiction_encoded', 'Sub-stream', 'Category_encoded', 'Type_encoded', 'Management_encoded', 'Fate_encoded', 'ds_encoded']]\n",
    "    catalog.save(encoded_data_names[i],df)"
   ]
  }
 ],
 "metadata": {
  "kernelspec": {
   "display_name": "Kedro (monash_datahack_2023)",
   "language": "python",
   "name": "kedro_monash_datahack_2023"
  },
  "language_info": {
   "codemirror_mode": {
    "name": "ipython",
    "version": 3
   },
   "file_extension": ".py",
   "mimetype": "text/x-python",
   "name": "python",
   "nbconvert_exporter": "python",
   "pygments_lexer": "ipython3",
   "version": "3.9.13"
  }
 },
 "nbformat": 4,
 "nbformat_minor": 5
}
