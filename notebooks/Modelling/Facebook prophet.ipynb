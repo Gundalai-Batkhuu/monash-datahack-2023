{
 "cells": [
  {
   "cell_type": "code",
   "execution_count": 1,
   "id": "fa396150",
   "metadata": {},
   "outputs": [
    {
     "name": "stdout",
     "output_type": "stream",
     "text": [
      "2023-10-07 15:21:09,572 - kedro.extras.extensions.ipython - INFO - No path argument was provided. Using: C:\\Users\\Dushku\\PycharmProjects\\monash-datahack-2023\n",
      "2023-10-07 15:21:09,697 - kedro.framework.session.store - INFO - `read()` not implemented for `BaseSessionStore`. Assuming empty store.\n",
      "2023-10-07 15:21:09,715 - kedro.framework.hooks.manager - INFO - Registered hooks from 1 installed plugin(s): kedro-telemetry-0.2.5\n",
      "2023-10-07 15:21:09,766 - kedro.extras.extensions.ipython - INFO - ** Kedro project Monash datahack 2023\n",
      "2023-10-07 15:21:09,766 - kedro.extras.extensions.ipython - INFO - Defined global variable `context`, `session`, `catalog` and `pipelines`\n"
     ]
    },
    {
     "name": "stderr",
     "output_type": "stream",
     "text": [
      "C:\\Users\\Dushku\\PycharmProjects\\monash-datahack-2023\\venv\\lib\\site-packages\\kedro\\framework\\context\\context.py:344: UserWarning: Credentials not found in your Kedro project config.\n",
      "No files found in ['C:\\\\Users\\\\Dushku\\\\PycharmProjects\\\\monash-datahack-2023\\\\conf\\\\base', 'C:\\\\Users\\\\Dushku\\\\PycharmProjects\\\\monash-datahack-2023\\\\conf\\\\local'] matching the glob pattern(s): ['credentials*', 'credentials*/**', '**/credentials*']\n",
      "  warn(f\"Credentials not found in your Kedro project config.\\n{str(exc)}\")\n"
     ]
    }
   ],
   "source": [
    "%reload_kedro"
   ]
  },
  {
   "cell_type": "code",
   "execution_count": 2,
   "id": "654d7dc0",
   "metadata": {},
   "outputs": [
    {
     "data": {
      "text/plain": [
       "['raw_data',\n",
       " 'preprocessed_data_with_string_values',\n",
       " 'companies',\n",
       " 'reviews',\n",
       " 'shuttles',\n",
       " 'data_processing.preprocessed_companies',\n",
       " 'data_processing.preprocessed_shuttles',\n",
       " 'model_input_table',\n",
       " 'data_science.active_modelling_pipeline.regressor',\n",
       " 'data_science.candidate_modelling_pipeline.regressor',\n",
       " 'parameters',\n",
       " 'params:data_science',\n",
       " 'params:data_science.active_modelling_pipeline',\n",
       " 'params:data_science.active_modelling_pipeline.model_options',\n",
       " 'params:data_science.active_modelling_pipeline.model_options.test_size',\n",
       " 'params:data_science.active_modelling_pipeline.model_options.random_state',\n",
       " 'params:data_science.active_modelling_pipeline.model_options.features',\n",
       " 'params:data_science.candidate_modelling_pipeline',\n",
       " 'params:data_science.candidate_modelling_pipeline.model_options',\n",
       " 'params:data_science.candidate_modelling_pipeline.model_options.test_size',\n",
       " 'params:data_science.candidate_modelling_pipeline.model_options.random_state',\n",
       " 'params:data_science.candidate_modelling_pipeline.model_options.features']"
      ]
     },
     "execution_count": 2,
     "metadata": {},
     "output_type": "execute_result"
    }
   ],
   "source": [
    "catalog.list()"
   ]
  },
  {
   "cell_type": "code",
   "execution_count": 3,
   "id": "7944ecd2",
   "metadata": {},
   "outputs": [
    {
     "name": "stdout",
     "output_type": "stream",
     "text": [
      "2023-10-07 15:21:09,790 - kedro.io.data_catalog - INFO - Loading data from `preprocessed_data_with_string_values` (CSVDataSet)...\n"
     ]
    }
   ],
   "source": [
    "df = catalog.load('preprocessed_data_with_type_classification')"
   ]
  },
  {
   "cell_type": "code",
   "execution_count": 4,
   "id": "a75d9933",
   "metadata": {},
   "outputs": [
    {
     "data": {
      "text/html": [
       "<div>\n",
       "<style scoped>\n",
       "    .dataframe tbody tr th:only-of-type {\n",
       "        vertical-align: middle;\n",
       "    }\n",
       "\n",
       "    .dataframe tbody tr th {\n",
       "        vertical-align: top;\n",
       "    }\n",
       "\n",
       "    .dataframe thead th {\n",
       "        text-align: right;\n",
       "    }\n",
       "</style>\n",
       "<table border=\"1\" class=\"dataframe\">\n",
       "  <thead>\n",
       "    <tr style=\"text-align: right;\">\n",
       "      <th></th>\n",
       "      <th>Jurisdiction</th>\n",
       "      <th>Category</th>\n",
       "      <th>Type</th>\n",
       "      <th>Management</th>\n",
       "      <th>Fate</th>\n",
       "      <th>y</th>\n",
       "      <th>ds</th>\n",
       "      <th>Sub-stream</th>\n",
       "    </tr>\n",
       "  </thead>\n",
       "  <tbody>\n",
       "    <tr>\n",
       "      <th>0</th>\n",
       "      <td>ACT</td>\n",
       "      <td>Biosolids</td>\n",
       "      <td>Biosolids</td>\n",
       "      <td>Other disposal</td>\n",
       "      <td>Disposal</td>\n",
       "      <td>20186</td>\n",
       "      <td>2021-12-31</td>\n",
       "      <td>3</td>\n",
       "    </tr>\n",
       "    <tr>\n",
       "      <th>1</th>\n",
       "      <td>ACT</td>\n",
       "      <td>Biosolids</td>\n",
       "      <td>Biosolids</td>\n",
       "      <td>Recycling</td>\n",
       "      <td>Recycling</td>\n",
       "      <td>0</td>\n",
       "      <td>2021-12-31</td>\n",
       "      <td>3</td>\n",
       "    </tr>\n",
       "    <tr>\n",
       "      <th>2</th>\n",
       "      <td>ACT</td>\n",
       "      <td>Building and demolition materials</td>\n",
       "      <td>Asphalt</td>\n",
       "      <td>Recycling</td>\n",
       "      <td>Recycling</td>\n",
       "      <td>0</td>\n",
       "      <td>2021-12-31</td>\n",
       "      <td>2</td>\n",
       "    </tr>\n",
       "    <tr>\n",
       "      <th>3</th>\n",
       "      <td>ACT</td>\n",
       "      <td>Building and demolition materials</td>\n",
       "      <td>Asphalt</td>\n",
       "      <td>Recycling</td>\n",
       "      <td>Recycling</td>\n",
       "      <td>0</td>\n",
       "      <td>2021-12-31</td>\n",
       "      <td>3</td>\n",
       "    </tr>\n",
       "    <tr>\n",
       "      <th>4</th>\n",
       "      <td>ACT</td>\n",
       "      <td>Building and demolition materials</td>\n",
       "      <td>Asphalt</td>\n",
       "      <td>Recycling</td>\n",
       "      <td>Recycling</td>\n",
       "      <td>0</td>\n",
       "      <td>2021-12-31</td>\n",
       "      <td>1</td>\n",
       "    </tr>\n",
       "  </tbody>\n",
       "</table>\n",
       "</div>"
      ],
      "text/plain": [
       "  Jurisdiction                           Category       Type      Management  \\\n",
       "0          ACT                          Biosolids  Biosolids  Other disposal   \n",
       "1          ACT                          Biosolids  Biosolids       Recycling   \n",
       "2          ACT  Building and demolition materials    Asphalt       Recycling   \n",
       "3          ACT  Building and demolition materials    Asphalt       Recycling   \n",
       "4          ACT  Building and demolition materials    Asphalt       Recycling   \n",
       "\n",
       "        Fate      y          ds  Sub-stream  \n",
       "0   Disposal  20186  2021-12-31           3  \n",
       "1  Recycling      0  2021-12-31           3  \n",
       "2  Recycling      0  2021-12-31           2  \n",
       "3  Recycling      0  2021-12-31           3  \n",
       "4  Recycling      0  2021-12-31           1  "
      ]
     },
     "execution_count": 4,
     "metadata": {},
     "output_type": "execute_result"
    }
   ],
   "source": [
    "df.head()"
   ]
  },
  {
   "cell_type": "code",
   "execution_count": 5,
   "id": "54099a5e",
   "metadata": {},
   "outputs": [
    {
     "data": {
      "text/plain": [
       "Index(['Jurisdiction', 'Category', 'Type', 'Management', 'Fate', 'y', 'ds',\n",
       "       'Sub-stream'],\n",
       "      dtype='object')"
      ]
     },
     "execution_count": 5,
     "metadata": {},
     "output_type": "execute_result"
    }
   ],
   "source": [
    "df.columns"
   ]
  },
  {
   "cell_type": "code",
   "execution_count": 6,
   "id": "29f1cb38",
   "metadata": {},
   "outputs": [
    {
     "name": "stdout",
     "output_type": "stream",
     "text": [
      "<class 'pandas.core.frame.DataFrame'>\n",
      "RangeIndex: 36851 entries, 0 to 36850\n",
      "Data columns (total 8 columns):\n",
      " #   Column        Non-Null Count  Dtype \n",
      "---  ------        --------------  ----- \n",
      " 0   Jurisdiction  36851 non-null  object\n",
      " 1   Category      36851 non-null  object\n",
      " 2   Type          36851 non-null  object\n",
      " 3   Management    36851 non-null  object\n",
      " 4   Fate          36851 non-null  object\n",
      " 5   y             36851 non-null  int64 \n",
      " 6   ds            36851 non-null  object\n",
      " 7   Sub-stream    36851 non-null  int64 \n",
      "dtypes: int64(2), object(6)\n",
      "memory usage: 2.2+ MB\n"
     ]
    }
   ],
   "source": [
    "df.info()"
   ]
  },
  {
   "cell_type": "code",
   "execution_count": 7,
   "id": "95a8a6ed",
   "metadata": {},
   "outputs": [],
   "source": [
    "df['y'] = df['y'].astype(int)"
   ]
  },
  {
   "cell_type": "code",
   "execution_count": 8,
   "id": "e0e2cf4e",
   "metadata": {},
   "outputs": [
    {
     "name": "stdout",
     "output_type": "stream",
     "text": [
      "2023-10-07 15:21:10,409 - prophet.plot - ERROR - Importing plotly failed. Interactive plots will not work.\n"
     ]
    }
   ],
   "source": [
    "from sklearn.model_selection import train_test_split\n",
    "from prophet import Prophet\n",
    "\n",
    "# Define the percentages for the split (e.g., 70% train, 30% test)\n",
    "train_percentage = 0.7\n",
    "test_percentage = 0.3\n",
    "\n",
    "# Split the data into training and testing sets\n",
    "train_data, test_data = train_test_split(df, test_size=test_percentage, random_state=42)"
   ]
  },
  {
   "cell_type": "code",
   "execution_count": 9,
   "id": "be4aa3c6",
   "metadata": {
    "scrolled": false
   },
   "outputs": [
    {
     "name": "stdout",
     "output_type": "stream",
     "text": [
      "2023-10-07 15:21:10,481 - prophet - INFO - Disabling weekly seasonality. Run prophet with weekly_seasonality=True to override this.\n",
      "2023-10-07 15:21:10,482 - prophet - INFO - Disabling daily seasonality. Run prophet with daily_seasonality=True to override this.\n"
     ]
    },
    {
     "name": "stderr",
     "output_type": "stream",
     "text": [
      "C:\\Users\\Dushku\\PycharmProjects\\monash-datahack-2023\\venv\\lib\\site-packages\\pandas\\core\\algorithms.py:522: DeprecationWarning: np.find_common_type is deprecated.  Please use `np.result_type` or `np.promote_types`.\n",
      "See https://numpy.org/devdocs/release/1.25.0-notes.html and the docs for more information.  (Deprecated NumPy 1.25)\n",
      "  common = np.find_common_type([values.dtype, comps_array.dtype], [])\n",
      "C:\\Users\\Dushku\\PycharmProjects\\monash-datahack-2023\\venv\\lib\\site-packages\\pandas\\core\\algorithms.py:522: DeprecationWarning: np.find_common_type is deprecated.  Please use `np.result_type` or `np.promote_types`.\n",
      "See https://numpy.org/devdocs/release/1.25.0-notes.html and the docs for more information.  (Deprecated NumPy 1.25)\n",
      "  common = np.find_common_type([values.dtype, comps_array.dtype], [])\n",
      "15:21:11 - cmdstanpy - INFO - Chain [1] start processing\n"
     ]
    },
    {
     "name": "stdout",
     "output_type": "stream",
     "text": [
      "2023-10-07 15:21:11,165 - cmdstanpy - INFO - Chain [1] start processing\n"
     ]
    },
    {
     "name": "stderr",
     "output_type": "stream",
     "text": [
      "15:21:12 - cmdstanpy - INFO - Chain [1] done processing\n"
     ]
    },
    {
     "name": "stdout",
     "output_type": "stream",
     "text": [
      "2023-10-07 15:21:12,644 - cmdstanpy - INFO - Chain [1] done processing\n"
     ]
    },
    {
     "data": {
      "text/plain": [
       "<prophet.forecaster.Prophet at 0x1d82052f670>"
      ]
     },
     "execution_count": 9,
     "metadata": {},
     "output_type": "execute_result"
    }
   ],
   "source": [
    "m = Prophet()\n",
    "m.fit(train_data)"
   ]
  },
  {
   "cell_type": "code",
   "execution_count": 10,
   "id": "eb8b5c84",
   "metadata": {},
   "outputs": [
    {
     "data": {
      "text/html": [
       "<div>\n",
       "<style scoped>\n",
       "    .dataframe tbody tr th:only-of-type {\n",
       "        vertical-align: middle;\n",
       "    }\n",
       "\n",
       "    .dataframe tbody tr th {\n",
       "        vertical-align: top;\n",
       "    }\n",
       "\n",
       "    .dataframe thead th {\n",
       "        text-align: right;\n",
       "    }\n",
       "</style>\n",
       "<table border=\"1\" class=\"dataframe\">\n",
       "  <thead>\n",
       "    <tr style=\"text-align: right;\">\n",
       "      <th></th>\n",
       "      <th>ds</th>\n",
       "    </tr>\n",
       "  </thead>\n",
       "  <tbody>\n",
       "    <tr>\n",
       "      <th>20</th>\n",
       "      <td>2027-12-31</td>\n",
       "    </tr>\n",
       "    <tr>\n",
       "      <th>21</th>\n",
       "      <td>2028-12-31</td>\n",
       "    </tr>\n",
       "    <tr>\n",
       "      <th>22</th>\n",
       "      <td>2029-12-31</td>\n",
       "    </tr>\n",
       "    <tr>\n",
       "      <th>23</th>\n",
       "      <td>2030-12-31</td>\n",
       "    </tr>\n",
       "    <tr>\n",
       "      <th>24</th>\n",
       "      <td>2031-12-31</td>\n",
       "    </tr>\n",
       "  </tbody>\n",
       "</table>\n",
       "</div>"
      ],
      "text/plain": [
       "           ds\n",
       "20 2027-12-31\n",
       "21 2028-12-31\n",
       "22 2029-12-31\n",
       "23 2030-12-31\n",
       "24 2031-12-31"
      ]
     },
     "execution_count": 10,
     "metadata": {},
     "output_type": "execute_result"
    }
   ],
   "source": [
    "future = m.make_future_dataframe(periods=10, freq='Y')\n",
    "future.tail()"
   ]
  },
  {
   "cell_type": "code",
   "execution_count": 11,
   "id": "78da8876",
   "metadata": {},
   "outputs": [
    {
     "name": "stderr",
     "output_type": "stream",
     "text": [
      "C:\\Users\\Dushku\\PycharmProjects\\monash-datahack-2023\\venv\\lib\\site-packages\\pandas\\core\\algorithms.py:522: DeprecationWarning: np.find_common_type is deprecated.  Please use `np.result_type` or `np.promote_types`.\n",
      "See https://numpy.org/devdocs/release/1.25.0-notes.html and the docs for more information.  (Deprecated NumPy 1.25)\n",
      "  common = np.find_common_type([values.dtype, comps_array.dtype], [])\n",
      "C:\\Users\\Dushku\\PycharmProjects\\monash-datahack-2023\\venv\\lib\\site-packages\\pandas\\core\\algorithms.py:522: DeprecationWarning: np.find_common_type is deprecated.  Please use `np.result_type` or `np.promote_types`.\n",
      "See https://numpy.org/devdocs/release/1.25.0-notes.html and the docs for more information.  (Deprecated NumPy 1.25)\n",
      "  common = np.find_common_type([values.dtype, comps_array.dtype], [])\n",
      "C:\\Users\\Dushku\\PycharmProjects\\monash-datahack-2023\\venv\\lib\\site-packages\\pandas\\core\\algorithms.py:522: DeprecationWarning: np.find_common_type is deprecated.  Please use `np.result_type` or `np.promote_types`.\n",
      "See https://numpy.org/devdocs/release/1.25.0-notes.html and the docs for more information.  (Deprecated NumPy 1.25)\n",
      "  common = np.find_common_type([values.dtype, comps_array.dtype], [])\n",
      "C:\\Users\\Dushku\\PycharmProjects\\monash-datahack-2023\\venv\\lib\\site-packages\\pandas\\core\\algorithms.py:522: DeprecationWarning: np.find_common_type is deprecated.  Please use `np.result_type` or `np.promote_types`.\n",
      "See https://numpy.org/devdocs/release/1.25.0-notes.html and the docs for more information.  (Deprecated NumPy 1.25)\n",
      "  common = np.find_common_type([values.dtype, comps_array.dtype], [])\n"
     ]
    },
    {
     "data": {
      "text/html": [
       "<div>\n",
       "<style scoped>\n",
       "    .dataframe tbody tr th:only-of-type {\n",
       "        vertical-align: middle;\n",
       "    }\n",
       "\n",
       "    .dataframe tbody tr th {\n",
       "        vertical-align: top;\n",
       "    }\n",
       "\n",
       "    .dataframe thead th {\n",
       "        text-align: right;\n",
       "    }\n",
       "</style>\n",
       "<table border=\"1\" class=\"dataframe\">\n",
       "  <thead>\n",
       "    <tr style=\"text-align: right;\">\n",
       "      <th></th>\n",
       "      <th>ds</th>\n",
       "      <th>yhat</th>\n",
       "      <th>yhat_lower</th>\n",
       "      <th>yhat_upper</th>\n",
       "    </tr>\n",
       "  </thead>\n",
       "  <tbody>\n",
       "    <tr>\n",
       "      <th>20</th>\n",
       "      <td>2027-12-31</td>\n",
       "      <td>7.767418e+05</td>\n",
       "      <td>-1.953402e+06</td>\n",
       "      <td>3.249288e+06</td>\n",
       "    </tr>\n",
       "    <tr>\n",
       "      <th>21</th>\n",
       "      <td>2028-12-31</td>\n",
       "      <td>7.034103e+05</td>\n",
       "      <td>-2.003836e+06</td>\n",
       "      <td>3.361957e+06</td>\n",
       "    </tr>\n",
       "    <tr>\n",
       "      <th>22</th>\n",
       "      <td>2029-12-31</td>\n",
       "      <td>8.337259e+05</td>\n",
       "      <td>-1.982698e+06</td>\n",
       "      <td>3.433850e+06</td>\n",
       "    </tr>\n",
       "    <tr>\n",
       "      <th>23</th>\n",
       "      <td>2030-12-31</td>\n",
       "      <td>9.637453e+05</td>\n",
       "      <td>-1.710327e+06</td>\n",
       "      <td>3.925854e+06</td>\n",
       "    </tr>\n",
       "    <tr>\n",
       "      <th>24</th>\n",
       "      <td>2031-12-31</td>\n",
       "      <td>1.093407e+06</td>\n",
       "      <td>-1.625410e+06</td>\n",
       "      <td>4.209506e+06</td>\n",
       "    </tr>\n",
       "  </tbody>\n",
       "</table>\n",
       "</div>"
      ],
      "text/plain": [
       "           ds          yhat    yhat_lower    yhat_upper\n",
       "20 2027-12-31  7.767418e+05 -1.953402e+06  3.249288e+06\n",
       "21 2028-12-31  7.034103e+05 -2.003836e+06  3.361957e+06\n",
       "22 2029-12-31  8.337259e+05 -1.982698e+06  3.433850e+06\n",
       "23 2030-12-31  9.637453e+05 -1.710327e+06  3.925854e+06\n",
       "24 2031-12-31  1.093407e+06 -1.625410e+06  4.209506e+06"
      ]
     },
     "execution_count": 11,
     "metadata": {},
     "output_type": "execute_result"
    }
   ],
   "source": [
    "forecast = m.predict(future)\n",
    "forecast[['ds', 'yhat', 'yhat_lower', 'yhat_upper']].tail()\n"
   ]
  },
  {
   "cell_type": "code",
   "execution_count": 12,
   "id": "11bea35a",
   "metadata": {},
   "outputs": [
    {
     "data": {
      "image/png": "[encoded data removed]",
      "text/plain": [
       "<Figure size 1000x600 with 1 Axes>"
      ]
     },
     "metadata": {},
     "output_type": "display_data"
    }
   ],
   "source": [
    "fig1 = m.plot(forecast)"
   ]
  },
  {
   "cell_type": "code",
   "execution_count": 13,
   "id": "4e434f20",
   "metadata": {},
   "outputs": [
    {
     "name": "stdout",
     "output_type": "stream",
     "text": [
      "           ds\n",
      "0  2007-12-31\n",
      "1  2008-12-31\n",
      "2  2009-12-31\n",
      "3  2010-12-31\n",
      "4  2011-12-31\n",
      "5  2012-12-31\n",
      "6  2013-12-31\n",
      "7  2014-12-31\n",
      "8  2015-12-31\n",
      "9  2016-12-31\n",
      "10 2017-12-31\n",
      "11 2018-12-31\n",
      "12 2019-12-31\n",
      "13 2020-12-31\n",
      "14 2021-12-31\n",
      "15 2022-12-31\n",
      "16 2023-12-31\n",
      "17 2024-12-31\n",
      "18 2025-12-31\n",
      "19 2026-12-31\n",
      "20 2027-12-31\n",
      "21 2028-12-31\n",
      "22 2029-12-31\n",
      "23 2030-12-31\n",
      "24 2031-12-31\n"
     ]
    }
   ],
   "source": [
    "print(future)"
   ]
  },
  {
   "cell_type": "code",
   "execution_count": 14,
   "id": "fa93cb71",
   "metadata": {},
   "outputs": [
    {
     "name": "stderr",
     "output_type": "stream",
     "text": [
      "C:\\Users\\Dushku\\PycharmProjects\\monash-datahack-2023\\venv\\lib\\site-packages\\pandas\\core\\algorithms.py:522: DeprecationWarning: np.find_common_type is deprecated.  Please use `np.result_type` or `np.promote_types`.\n",
      "See https://numpy.org/devdocs/release/1.25.0-notes.html and the docs for more information.  (Deprecated NumPy 1.25)\n",
      "  common = np.find_common_type([values.dtype, comps_array.dtype], [])\n",
      "C:\\Users\\Dushku\\PycharmProjects\\monash-datahack-2023\\venv\\lib\\site-packages\\pandas\\core\\algorithms.py:522: DeprecationWarning: np.find_common_type is deprecated.  Please use `np.result_type` or `np.promote_types`.\n",
      "See https://numpy.org/devdocs/release/1.25.0-notes.html and the docs for more information.  (Deprecated NumPy 1.25)\n",
      "  common = np.find_common_type([values.dtype, comps_array.dtype], [])\n"
     ]
    },
    {
     "data": {
      "image/png": "[encoded data removed]",
      "text/plain": [
       "<Figure size 900x600 with 2 Axes>"
      ]
     },
     "metadata": {},
     "output_type": "display_data"
    }
   ],
   "source": [
    "fig2 = m.plot_components(forecast)"
   ]
  },
  {
   "cell_type": "code",
   "execution_count": 15,
   "id": "852ca959",
   "metadata": {},
   "outputs": [],
   "source": [
    "from sklearn.preprocessing import LabelEncoder\n",
    "# Encoding the categorical values\n",
    "# Initialize the LabelEncoder for each categorical column\n",
    "label_encoders = {}\n",
    "\n",
    "for col in df.columns:\n",
    "    if df[col].dtype == 'object':  # Check if the column contains categorical data\n",
    "        label_encoders[col] = LabelEncoder()\n",
    "        df[col + '_encoded'] = label_encoders[col].fit_transform(df[col])\n",
    "        \n",
    "df['y'] = LabelEncoder().fit_transform(df['y'])"
   ]
  },
  {
   "cell_type": "code",
   "execution_count": 16,
   "id": "e0fdc427",
   "metadata": {},
   "outputs": [
    {
     "data": {
      "text/plain": [
       "Index(['Jurisdiction', 'Category', 'Type', 'Management', 'Fate', 'y', 'ds',\n",
       "       'Sub-stream', 'Jurisdiction_encoded', 'Category_encoded',\n",
       "       'Type_encoded', 'Management_encoded', 'Fate_encoded', 'ds_encoded'],\n",
       "      dtype='object')"
      ]
     },
     "execution_count": 16,
     "metadata": {},
     "output_type": "execute_result"
    }
   ],
   "source": [
    "df.columns"
   ]
  },
  {
   "cell_type": "code",
   "execution_count": 17,
   "id": "3d494365",
   "metadata": {},
   "outputs": [],
   "source": [
    "# Selecting feature variables along with the y variable\n",
    "\n",
    "df = df[['y', 'Jurisdiction_encoded', 'Sub-stream', 'Category_encoded', 'Type_encoded', 'Management_encoded', 'Fate_encoded', 'ds_encoded']]"
   ]
  },
  {
   "cell_type": "code",
   "execution_count": 18,
   "id": "e8fc17fd",
   "metadata": {},
   "outputs": [],
   "source": [
    "from sklearn.model_selection import train_test_split\n",
    "\n",
    "feature_columns = ['ds_encoded', 'Jurisdiction_encoded', 'Category_encoded', 'Type_encoded', 'Management_encoded', 'Fate_encoded', 'Sub-stream']\n",
    "# Define your target variable (y) and features (X)\n",
    "# Replace 'target_column' with the name of your target column and 'feature_columns' with the list of feature column names.\n",
    "y = df['y']\n",
    "X = df[feature_columns]\n",
    "\n",
    "# Split the data into training and testing sets\n",
    "# By default, this code will split 75% for training and 25% for testing.\n",
    "X_train, X_test, Y_train, Y_test = train_test_split(X, y, test_size=0.25, random_state=42)\n",
    "\n",
    "# Reshaping Y-test two 2-d array\n",
    "Y_test = Y_test.values.reshape(-1, 1)"
   ]
  },
  {
   "cell_type": "code",
   "execution_count": 19,
   "id": "b30b5ab0",
   "metadata": {},
   "outputs": [
    {
     "name": "stderr",
     "output_type": "stream",
     "text": [
      "C:\\Users\\Dushku\\PycharmProjects\\monash-datahack-2023\\venv\\lib\\site-packages\\pandas\\core\\dtypes\\cast.py:1641: DeprecationWarning: np.find_common_type is deprecated.  Please use `np.result_type` or `np.promote_types`.\n",
      "See https://numpy.org/devdocs/release/1.25.0-notes.html and the docs for more information.  (Deprecated NumPy 1.25)\n",
      "  return np.find_common_type(types, [])\n",
      "C:\\Users\\Dushku\\PycharmProjects\\monash-datahack-2023\\venv\\lib\\site-packages\\pandas\\core\\dtypes\\cast.py:1641: DeprecationWarning: np.find_common_type is deprecated.  Please use `np.result_type` or `np.promote_types`.\n",
      "See https://numpy.org/devdocs/release/1.25.0-notes.html and the docs for more information.  (Deprecated NumPy 1.25)\n",
      "  return np.find_common_type(types, [])\n"
     ]
    }
   ],
   "source": [
    "from sklearn.ensemble import RandomForestRegressor\n",
    "\n",
    "# Create Random forest classifer object\n",
    "Random_forest = RandomForestRegressor(max_depth=2, random_state=0)\n",
    "\n",
    "# Train Random forest Classifer\n",
    "Random_forest.fit(X_train,Y_train)\n",
    "\n",
    "# Predict the response for test dataset\n",
    "Random_forest_preds = Random_forest.predict(X_test)"
   ]
  },
  {
   "cell_type": "code",
   "execution_count": 20,
   "id": "5ef942d1",
   "metadata": {},
   "outputs": [
    {
     "name": "stderr",
     "output_type": "stream",
     "text": [
      "C:\\Users\\Dushku\\PycharmProjects\\monash-datahack-2023\\venv\\lib\\site-packages\\pandas\\core\\dtypes\\cast.py:1641: DeprecationWarning: np.find_common_type is deprecated.  Please use `np.result_type` or `np.promote_types`.\n",
      "See https://numpy.org/devdocs/release/1.25.0-notes.html and the docs for more information.  (Deprecated NumPy 1.25)\n",
      "  return np.find_common_type(types, [])\n"
     ]
    },
    {
     "data": {
      "text/plain": [
       "0.19084328672845985"
      ]
     },
     "execution_count": 20,
     "metadata": {},
     "output_type": "execute_result"
    }
   ],
   "source": [
    "Random_forest.score(X_test, Y_test)"
   ]
  },
  {
   "cell_type": "code",
   "execution_count": 21,
   "id": "f1ecf0d9",
   "metadata": {},
   "outputs": [
    {
     "name": "stderr",
     "output_type": "stream",
     "text": [
      "C:\\Users\\Dushku\\PycharmProjects\\monash-datahack-2023\\venv\\lib\\site-packages\\pandas\\core\\dtypes\\cast.py:1641: DeprecationWarning: np.find_common_type is deprecated.  Please use `np.result_type` or `np.promote_types`.\n",
      "See https://numpy.org/devdocs/release/1.25.0-notes.html and the docs for more information.  (Deprecated NumPy 1.25)\n",
      "  return np.find_common_type(types, [])\n",
      "C:\\Users\\Dushku\\PycharmProjects\\monash-datahack-2023\\venv\\lib\\site-packages\\pandas\\core\\dtypes\\cast.py:1641: DeprecationWarning: np.find_common_type is deprecated.  Please use `np.result_type` or `np.promote_types`.\n",
      "See https://numpy.org/devdocs/release/1.25.0-notes.html and the docs for more information.  (Deprecated NumPy 1.25)\n",
      "  return np.find_common_type(types, [])\n",
      "C:\\Users\\Dushku\\PycharmProjects\\monash-datahack-2023\\venv\\lib\\site-packages\\pandas\\core\\dtypes\\cast.py:1641: DeprecationWarning: np.find_common_type is deprecated.  Please use `np.result_type` or `np.promote_types`.\n",
      "See https://numpy.org/devdocs/release/1.25.0-notes.html and the docs for more information.  (Deprecated NumPy 1.25)\n",
      "  return np.find_common_type(types, [])\n"
     ]
    },
    {
     "data": {
      "text/plain": [
       "0.24223981605334133"
      ]
     },
     "execution_count": 21,
     "metadata": {},
     "output_type": "execute_result"
    }
   ],
   "source": [
    "from sklearn.ensemble import AdaBoostRegressor\n",
    "model_ada = AdaBoostRegressor(learning_rate= 0.002,n_estimators= 205,random_state=42)\n",
    "model_ada.fit(X_train, Y_train)\n",
    "pred_ada = model_ada.predict(X_test)\n",
    "model_ada.score(X_test, Y_test)"
   ]
  },
  {
   "cell_type": "markdown",
   "id": "bc1112ad",
   "metadata": {},
   "source": [
    "Data outlier analysis\n",
    "Missing values (heatmap etc\n",
    "Decision tree\n",
    "Random forest\n",
    "Ada boosting\n",
    "GradientBoostingRegressor\n",
    "VotingRegressor\n",
    "XGboost\n",
    "\n",
    "sklearn grid searching"
   ]
  }
 ],
 "metadata": {
  "kernelspec": {
   "display_name": "Kedro (monash_datahack_2023)",
   "language": "python",
   "name": "kedro_monash_datahack_2023"
  },
  "language_info": {
   "codemirror_mode": {
    "name": "ipython",
    "version": 3
   },
   "file_extension": ".py",
   "mimetype": "text/x-python",
   "name": "python",
   "nbconvert_exporter": "python",
   "pygments_lexer": "ipython3",
   "version": "3.9.13"
  }
 },
 "nbformat": 4,
 "nbformat_minor": 5
}
