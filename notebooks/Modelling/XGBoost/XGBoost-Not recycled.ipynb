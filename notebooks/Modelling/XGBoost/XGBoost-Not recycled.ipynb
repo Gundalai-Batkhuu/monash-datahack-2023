{
 "cells": [
  {
   "cell_type": "markdown",
   "id": "e4391e1f",
   "metadata": {},
   "source": [
    "## Resources\n",
    "- https://xgboost.readthedocs.io/en/stable/get_started.html\n",
    "- https://xgboost.readthedocs.io/en/stable/tutorials/categorical.html"
   ]
  },
  {
   "cell_type": "code",
   "execution_count": 1,
   "id": "fa396150",
   "metadata": {
    "scrolled": false
   },
   "outputs": [
    {
     "name": "stdout",
     "output_type": "stream",
     "text": [
      "2023-10-08 23:19:17,177 - kedro.extras.extensions.ipython - INFO - No path argument was provided. Using: C:\\Users\\Dushku\\PycharmProjects\\monash-datahack-2023\n",
      "2023-10-08 23:19:17,302 - kedro.framework.session.store - INFO - `read()` not implemented for `BaseSessionStore`. Assuming empty store.\n",
      "2023-10-08 23:19:17,321 - kedro.framework.hooks.manager - INFO - Registered hooks from 1 installed plugin(s): kedro-telemetry-0.2.5\n",
      "2023-10-08 23:19:17,379 - kedro.extras.extensions.ipython - INFO - ** Kedro project Monash datahack 2023\n",
      "2023-10-08 23:19:17,379 - kedro.extras.extensions.ipython - INFO - Defined global variable `context`, `session`, `catalog` and `pipelines`\n"
     ]
    },
    {
     "name": "stderr",
     "output_type": "stream",
     "text": [
      "C:\\Users\\Dushku\\PycharmProjects\\monash-datahack-2023\\venv\\lib\\site-packages\\kedro\\framework\\context\\context.py:344: UserWarning: Credentials not found in your Kedro project config.\n",
      "No files found in ['C:\\\\Users\\\\Dushku\\\\PycharmProjects\\\\monash-datahack-2023\\\\conf\\\\base', 'C:\\\\Users\\\\Dushku\\\\PycharmProjects\\\\monash-datahack-2023\\\\conf\\\\local'] matching the glob pattern(s): ['credentials*', 'credentials*/**', '**/credentials*']\n",
      "  warn(f\"Credentials not found in your Kedro project config.\\n{str(exc)}\")\n"
     ]
    }
   ],
   "source": [
    "%reload_kedro"
   ]
  },
  {
   "cell_type": "code",
   "execution_count": 2,
   "id": "7944ecd2",
   "metadata": {
    "scrolled": true
   },
   "outputs": [
    {
     "name": "stdout",
     "output_type": "stream",
     "text": [
      "2023-10-08 23:19:17,385 - kedro.io.data_catalog - INFO - Loading data from `encoded_data_not_recycled` (CSVDataSet)...\n"
     ]
    }
   ],
   "source": [
    "df = catalog.load('encoded_data_not_recycled')"
   ]
  },
  {
   "cell_type": "code",
   "execution_count": 3,
   "id": "a75d9933",
   "metadata": {
    "scrolled": true
   },
   "outputs": [
    {
     "data": {
      "text/html": [
       "<div>\n",
       "<style scoped>\n",
       "    .dataframe tbody tr th:only-of-type {\n",
       "        vertical-align: middle;\n",
       "    }\n",
       "\n",
       "    .dataframe tbody tr th {\n",
       "        vertical-align: top;\n",
       "    }\n",
       "\n",
       "    .dataframe thead th {\n",
       "        text-align: right;\n",
       "    }\n",
       "</style>\n",
       "<table border=\"1\" class=\"dataframe\">\n",
       "  <thead>\n",
       "    <tr style=\"text-align: right;\">\n",
       "      <th></th>\n",
       "      <th>y</th>\n",
       "      <th>Jurisdiction_encoded</th>\n",
       "      <th>Sub-stream</th>\n",
       "      <th>Category_encoded</th>\n",
       "      <th>Type_encoded</th>\n",
       "      <th>Management_encoded</th>\n",
       "      <th>Fate_encoded</th>\n",
       "      <th>ds_encoded</th>\n",
       "    </tr>\n",
       "  </thead>\n",
       "  <tbody>\n",
       "    <tr>\n",
       "      <th>0</th>\n",
       "      <td>4748</td>\n",
       "      <td>0</td>\n",
       "      <td>3</td>\n",
       "      <td>1</td>\n",
       "      <td>7</td>\n",
       "      <td>2</td>\n",
       "      <td>0</td>\n",
       "      <td>14</td>\n",
       "    </tr>\n",
       "    <tr>\n",
       "      <th>1</th>\n",
       "      <td>4748</td>\n",
       "      <td>0</td>\n",
       "      <td>9</td>\n",
       "      <td>1</td>\n",
       "      <td>7</td>\n",
       "      <td>2</td>\n",
       "      <td>0</td>\n",
       "      <td>14</td>\n",
       "    </tr>\n",
       "    <tr>\n",
       "      <th>2</th>\n",
       "      <td>4748</td>\n",
       "      <td>0</td>\n",
       "      <td>3</td>\n",
       "      <td>1</td>\n",
       "      <td>68</td>\n",
       "      <td>2</td>\n",
       "      <td>0</td>\n",
       "      <td>14</td>\n",
       "    </tr>\n",
       "    <tr>\n",
       "      <th>3</th>\n",
       "      <td>4748</td>\n",
       "      <td>0</td>\n",
       "      <td>9</td>\n",
       "      <td>1</td>\n",
       "      <td>68</td>\n",
       "      <td>2</td>\n",
       "      <td>0</td>\n",
       "      <td>14</td>\n",
       "    </tr>\n",
       "    <tr>\n",
       "      <th>4</th>\n",
       "      <td>4748</td>\n",
       "      <td>0</td>\n",
       "      <td>3</td>\n",
       "      <td>1</td>\n",
       "      <td>68</td>\n",
       "      <td>2</td>\n",
       "      <td>0</td>\n",
       "      <td>14</td>\n",
       "    </tr>\n",
       "  </tbody>\n",
       "</table>\n",
       "</div>"
      ],
      "text/plain": [
       "      y  Jurisdiction_encoded  Sub-stream  Category_encoded  Type_encoded  \\\n",
       "0  4748                     0           3                 1             7   \n",
       "1  4748                     0           9                 1             7   \n",
       "2  4748                     0           3                 1            68   \n",
       "3  4748                     0           9                 1            68   \n",
       "4  4748                     0           3                 1            68   \n",
       "\n",
       "   Management_encoded  Fate_encoded  ds_encoded  \n",
       "0                   2             0          14  \n",
       "1                   2             0          14  \n",
       "2                   2             0          14  \n",
       "3                   2             0          14  \n",
       "4                   2             0          14  "
      ]
     },
     "execution_count": 3,
     "metadata": {},
     "output_type": "execute_result"
    }
   ],
   "source": [
    "df.head()"
   ]
  },
  {
   "cell_type": "code",
   "execution_count": 4,
   "id": "54099a5e",
   "metadata": {
    "scrolled": false
   },
   "outputs": [
    {
     "data": {
      "text/plain": [
       "Index(['y', 'Jurisdiction_encoded', 'Sub-stream', 'Category_encoded',\n",
       "       'Type_encoded', 'Management_encoded', 'Fate_encoded', 'ds_encoded'],\n",
       "      dtype='object')"
      ]
     },
     "execution_count": 4,
     "metadata": {},
     "output_type": "execute_result"
    }
   ],
   "source": [
    "df.columns"
   ]
  },
  {
   "cell_type": "markdown",
   "id": "e529dfe6",
   "metadata": {},
   "source": [
    "XGBoost requires special handling for categorical data\n",
    "https://xgboost.readthedocs.io/en/stable/tutorials/categorical.html"
   ]
  },
  {
   "cell_type": "code",
   "execution_count": 5,
   "id": "559f4ca3",
   "metadata": {},
   "outputs": [],
   "source": [
    "cat_columns = ['Jurisdiction_encoded', 'Sub-stream', 'Category_encoded', 'Type_encoded', 'Management_encoded', 'Fate_encoded']\n",
    "for column in cat_columns:\n",
    "    df[column].astype(\"category\")"
   ]
  },
  {
   "cell_type": "code",
   "execution_count": 6,
   "id": "29f1cb38",
   "metadata": {
    "scrolled": true
   },
   "outputs": [
    {
     "name": "stdout",
     "output_type": "stream",
     "text": [
      "<class 'pandas.core.frame.DataFrame'>\n",
      "RangeIndex: 45680 entries, 0 to 45679\n",
      "Data columns (total 8 columns):\n",
      " #   Column                Non-Null Count  Dtype\n",
      "---  ------                --------------  -----\n",
      " 0   y                     45680 non-null  int64\n",
      " 1   Jurisdiction_encoded  45680 non-null  int64\n",
      " 2   Sub-stream            45680 non-null  int64\n",
      " 3   Category_encoded      45680 non-null  int64\n",
      " 4   Type_encoded          45680 non-null  int64\n",
      " 5   Management_encoded    45680 non-null  int64\n",
      " 6   Fate_encoded          45680 non-null  int64\n",
      " 7   ds_encoded            45680 non-null  int64\n",
      "dtypes: int64(8)\n",
      "memory usage: 2.8 MB\n"
     ]
    }
   ],
   "source": [
    "df.info()"
   ]
  },
  {
   "cell_type": "code",
   "execution_count": 7,
   "id": "e8fc17fd",
   "metadata": {},
   "outputs": [],
   "source": [
    "import numpy as np\n",
    "\n",
    "from scipy.stats import uniform, randint\n",
    "\n",
    "from sklearn.datasets import load_breast_cancer, load_diabetes, load_wine\n",
    "from sklearn.metrics import auc, confusion_matrix, mean_squared_error, r2_score\n",
    "from sklearn.model_selection import cross_val_score, GridSearchCV, KFold, RandomizedSearchCV, train_test_split\n",
    "\n",
    "import xgboost as xgb"
   ]
  },
  {
   "cell_type": "code",
   "execution_count": 8,
   "id": "f1ecf0d9",
   "metadata": {
    "scrolled": false
   },
   "outputs": [
    {
     "name": "stdout",
     "output_type": "stream",
     "text": [
      "561293.5449495318\n"
     ]
    }
   ],
   "source": [
    "X = df.loc[:, df.columns != 'y']\n",
    "y = df['y']\n",
    "\n",
    "X_train, X_test, y_train, y_test = train_test_split(X, y, test_size=0.33, random_state=42)\n",
    "\n",
    "xgb_model = xgb.XGBRegressor(objective=\"reg:squarederror\", enable_categorical=True)\n",
    "\n",
    "xgb_model.fit(X_train, y_train)\n",
    "\n",
    "y_pred = xgb_model.predict(X_test)\n",
    "\n",
    "mse=mean_squared_error(y_test, y_pred)\n",
    "\n",
    "print(mse)"
   ]
  },
  {
   "cell_type": "code",
   "execution_count": 9,
   "id": "9b7e938b",
   "metadata": {},
   "outputs": [
    {
     "name": "stdout",
     "output_type": "stream",
     "text": [
      "0.9191025455654238\n"
     ]
    }
   ],
   "source": [
    "r2_score_1 = r2_score(y_test, y_pred)\n",
    "\n",
    "print(r2_score_1)"
   ]
  },
  {
   "cell_type": "code",
   "execution_count": 10,
   "id": "3e77345d",
   "metadata": {
    "scrolled": false
   },
   "outputs": [
    {
     "data": {
      "image/png": "[encoded data removed]",
      "text/plain": [
       "<Figure size 800x600 with 1 Axes>"
      ]
     },
     "metadata": {},
     "output_type": "display_data"
    }
   ],
   "source": [
    "import matplotlib.pyplot as plt\n",
    "# Create a scatter plot\n",
    "plt.figure(figsize=(8, 6))\n",
    "plt.scatter(y_test, y_pred, c='blue', marker='o')\n",
    "plt.xlabel('Actual (y_test) Values')\n",
    "plt.ylabel('Predicted (y_pred) Values')\n",
    "plt.title('Actual vs. Predicted Values')\n",
    "plt.grid(True)\n",
    "plt.show()"
   ]
  },
  {
   "cell_type": "code",
   "execution_count": 11,
   "id": "fee55692",
   "metadata": {},
   "outputs": [
    {
     "name": "stdout",
     "output_type": "stream",
     "text": [
      "793990.3435949337\n"
     ]
    },
    {
     "data": {
      "text/plain": [
       "0.8855646956562809"
      ]
     },
     "execution_count": 11,
     "metadata": {},
     "output_type": "execute_result"
    }
   ],
   "source": [
    "X_train, X_test, y_train, y_test = train_test_split(X, y, test_size=0.33, random_state=42)\n",
    "\n",
    "xgb_model = xgb.XGBRegressor(objective=\"reg:squarederror\", \n",
    "                             enable_categorical=True, \n",
    "                             learning_rate=0.03, \n",
    "                             n_estimators=1000,\n",
    "                             colsample_bytree = 1.0, \n",
    "                             gamma = 1.5, \n",
    "                             max_depth = 5, \n",
    "                             min_child_weight = 1, \n",
    "                             subsample = 0.8\n",
    "                            )\n",
    "\n",
    "xgb_model.fit(X_train, y_train)\n",
    "\n",
    "y_pred = xgb_model.predict(X_test)\n",
    "\n",
    "mse=mean_squared_error(y_test, y_pred)\n",
    "\n",
    "print(mse)\n",
    "\n",
    "r2_score(y_test, y_pred)"
   ]
  },
  {
   "cell_type": "code",
   "execution_count": null,
   "id": "0f37b34e",
   "metadata": {},
   "outputs": [
    {
     "name": "stdout",
     "output_type": "stream",
     "text": [
      "Fitting 3 folds for each of 405 candidates, totalling 1215 fits\n"
     ]
    },
    {
     "name": "stderr",
     "output_type": "stream",
     "text": [
      "C:\\Users\\Dushku\\PycharmProjects\\monash-datahack-2023\\venv\\lib\\site-packages\\sklearn\\model_selection\\_split.py:737: UserWarning: The least populated class in y has only 1 members, which is less than n_splits=3.\n",
      "  warnings.warn(\n"
     ]
    }
   ],
   "source": [
    "from sklearn.model_selection import GridSearchCV\n",
    "from sklearn.model_selection import StratifiedKFold\n",
    "\n",
    "def gridsearch():\n",
    "    skf = StratifiedKFold(n_splits=3, shuffle = True, random_state = 1001)\n",
    "    xgb_model = xgb.XGBRegressor(objective=\"reg:squarederror\", learning_rate=0.01, enable_categorical=True, n_estimators=500)\n",
    "    params = {\n",
    "        'min_child_weight': [1, 5, 10],\n",
    "        'gamma': [0.5, 1, 1.5, 2, 5],\n",
    "        'subsample': [0.6, 0.8, 1.0],\n",
    "        'colsample_bytree': [0.6, 0.8, 1.0],\n",
    "        'max_depth': [3, 4, 5]\n",
    "        }\n",
    "    grid = GridSearchCV(estimator=xgb_model, param_grid=params, scoring='r2', n_jobs=4, cv=skf.split(X_train,y_train), verbose=3)\n",
    "    grid.fit(X_train, y_train)\n",
    "    print(\"Best estimator: \")\n",
    "    print(grid.best_estimator_)\n",
    "    print(\"Best parameters: \")\n",
    "    print(grid.best_params_)\n",
    "    \n",
    "gridsearch()"
   ]
  },
  {
   "cell_type": "markdown",
   "id": "d6fcb3c4",
   "metadata": {},
   "source": [
    "Report:\n",
    "    - Pre-processing\n",
    "        - Differences between data subsets\n",
    "        - Balancing histogram\n",
    "        - Null\n",
    "        - Graphs\n",
    "        - etc..\n",
    "    - Models\n",
    "        - Parameters\n",
    "        \n",
    "Ensemble:\n",
    "    - https://machinelearningmastery.com/weighted-average-ensemble-with-python/\n",
    "    - Weighted average \n",
    "    \n",
    "    - XGBoost\n",
    "    - LightGBM\n",
    "    - catboost"
   ]
  },
  {
   "cell_type": "code",
   "execution_count": null,
   "id": "cc1877e9",
   "metadata": {},
   "outputs": [],
   "source": []
  }
 ],
 "metadata": {
  "kernelspec": {
   "display_name": "Kedro (monash_datahack_2023)",
   "language": "python",
   "name": "kedro_monash_datahack_2023"
  },
  "language_info": {
   "codemirror_mode": {
    "name": "ipython",
    "version": 3
   },
   "file_extension": ".py",
   "mimetype": "text/x-python",
   "name": "python",
   "nbconvert_exporter": "python",
   "pygments_lexer": "ipython3",
   "version": "3.9.13"
  }
 },
 "nbformat": 4,
 "nbformat_minor": 5
}
