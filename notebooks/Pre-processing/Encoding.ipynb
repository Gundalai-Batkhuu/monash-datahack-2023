{
 "cells": [
  {
   "cell_type": "code",
   "execution_count": 1,
   "id": "fa396150",
   "metadata": {
    "scrolled": true
   },
   "outputs": [
    {
     "name": "stdout",
     "output_type": "stream",
     "text": [
      "2023-10-09 13:51:00,476 - kedro.extras.extensions.ipython - INFO - No path argument was provided. Using: C:\\Users\\Dushku\\PycharmProjects\\monash-datahack-2023\n",
      "2023-10-09 13:51:00,605 - kedro.framework.session.store - INFO - `read()` not implemented for `BaseSessionStore`. Assuming empty store.\n",
      "2023-10-09 13:51:00,624 - kedro.framework.hooks.manager - INFO - Registered hooks from 1 installed plugin(s): kedro-telemetry-0.2.5\n",
      "2023-10-09 13:51:00,680 - kedro.extras.extensions.ipython - INFO - ** Kedro project Monash datahack 2023\n",
      "2023-10-09 13:51:00,681 - kedro.extras.extensions.ipython - INFO - Defined global variable `context`, `session`, `catalog` and `pipelines`\n"
     ]
    },
    {
     "name": "stderr",
     "output_type": "stream",
     "text": [
      "C:\\Users\\Dushku\\PycharmProjects\\monash-datahack-2023\\venv\\lib\\site-packages\\kedro\\framework\\context\\context.py:344: UserWarning: Credentials not found in your Kedro project config.\n",
      "No files found in ['C:\\\\Users\\\\Dushku\\\\PycharmProjects\\\\monash-datahack-2023\\\\conf\\\\base', 'C:\\\\Users\\\\Dushku\\\\PycharmProjects\\\\monash-datahack-2023\\\\conf\\\\local'] matching the glob pattern(s): ['credentials*', 'credentials*/**', '**/credentials*']\n",
      "  warn(f\"Credentials not found in your Kedro project config.\\n{str(exc)}\")\n"
     ]
    }
   ],
   "source": [
    "%reload_kedro"
   ]
  },
  {
   "cell_type": "code",
   "execution_count": 2,
   "id": "654d7dc0",
   "metadata": {
    "scrolled": true
   },
   "outputs": [
    {
     "data": {
      "text/plain": [
       "['raw_data',\n",
       " 'preprocessed_data_with_type_classification',\n",
       " 'preprocessed_data_with_total_classification',\n",
       " 'preprocessed_data_not_recycled',\n",
       " 'preprocessed_data_08_12_13',\n",
       " 'preprocessed_data_not_08_12_13',\n",
       " 'preprocessed_data_with_mining',\n",
       " 'preprocessed_data_without_mining',\n",
       " 'preprocessed_data_19_21',\n",
       " 'preprocessed_data_not_19_21',\n",
       " 'preprocessed_data_without_australia',\n",
       " 'encoded_data_without_australia',\n",
       " 'preprocessed_data_with_australia',\n",
       " 'encoded_data_with_australia',\n",
       " 'encoded_data_19_21',\n",
       " 'encoded_data_not_19_21',\n",
       " 'encoded_data_with_type_classification',\n",
       " 'encoded_data_with_total_classification',\n",
       " 'encoded_data_without_zero_values',\n",
       " 'encoded_data_not_recycled',\n",
       " 'encoded_data_08_12_13',\n",
       " 'encoded_data_not_08_12_13',\n",
       " 'encoded_data_with_mining',\n",
       " 'encoded_data_without_mining',\n",
       " 'companies',\n",
       " 'reviews',\n",
       " 'shuttles',\n",
       " 'data_processing.preprocessed_companies',\n",
       " 'data_processing.preprocessed_shuttles',\n",
       " 'model_input_table',\n",
       " 'data_science.active_modelling_pipeline.regressor',\n",
       " 'data_science.candidate_modelling_pipeline.regressor',\n",
       " 'parameters',\n",
       " 'params:data_science',\n",
       " 'params:data_science.active_modelling_pipeline',\n",
       " 'params:data_science.active_modelling_pipeline.model_options',\n",
       " 'params:data_science.active_modelling_pipeline.model_options.test_size',\n",
       " 'params:data_science.active_modelling_pipeline.model_options.random_state',\n",
       " 'params:data_science.active_modelling_pipeline.model_options.features',\n",
       " 'params:data_science.candidate_modelling_pipeline',\n",
       " 'params:data_science.candidate_modelling_pipeline.model_options',\n",
       " 'params:data_science.candidate_modelling_pipeline.model_options.test_size',\n",
       " 'params:data_science.candidate_modelling_pipeline.model_options.random_state',\n",
       " 'params:data_science.candidate_modelling_pipeline.model_options.features']"
      ]
     },
     "execution_count": 2,
     "metadata": {},
     "output_type": "execute_result"
    }
   ],
   "source": [
    "catalog.list()"
   ]
  },
  {
   "cell_type": "code",
   "execution_count": 3,
   "id": "7944ecd2",
   "metadata": {
    "scrolled": true
   },
   "outputs": [
    {
     "name": "stdout",
     "output_type": "stream",
     "text": [
      "2023-10-09 13:51:00,696 - kedro.io.data_catalog - INFO - Loading data from `preprocessed_data_with_type_classification` (CSVDataSet)...\n"
     ]
    }
   ],
   "source": [
    "df = catalog.load('preprocessed_data_with_type_classification')"
   ]
  },
  {
   "cell_type": "code",
   "execution_count": 4,
   "id": "a75d9933",
   "metadata": {
    "scrolled": true
   },
   "outputs": [
    {
     "data": {
      "text/html": [
       "<div>\n",
       "<style scoped>\n",
       "    .dataframe tbody tr th:only-of-type {\n",
       "        vertical-align: middle;\n",
       "    }\n",
       "\n",
       "    .dataframe tbody tr th {\n",
       "        vertical-align: top;\n",
       "    }\n",
       "\n",
       "    .dataframe thead th {\n",
       "        text-align: right;\n",
       "    }\n",
       "</style>\n",
       "<table border=\"1\" class=\"dataframe\">\n",
       "  <thead>\n",
       "    <tr style=\"text-align: right;\">\n",
       "      <th></th>\n",
       "      <th>Jurisdiction</th>\n",
       "      <th>Category</th>\n",
       "      <th>Type</th>\n",
       "      <th>Management</th>\n",
       "      <th>Fate</th>\n",
       "      <th>y</th>\n",
       "      <th>ds</th>\n",
       "      <th>Sub-stream</th>\n",
       "    </tr>\n",
       "  </thead>\n",
       "  <tbody>\n",
       "    <tr>\n",
       "      <th>0</th>\n",
       "      <td>ACT</td>\n",
       "      <td>Biosolids</td>\n",
       "      <td>Biosolids</td>\n",
       "      <td>Other disposal</td>\n",
       "      <td>Disposal</td>\n",
       "      <td>20186</td>\n",
       "      <td>2021-12-31</td>\n",
       "      <td>3</td>\n",
       "    </tr>\n",
       "    <tr>\n",
       "      <th>1</th>\n",
       "      <td>ACT</td>\n",
       "      <td>Biosolids</td>\n",
       "      <td>Biosolids</td>\n",
       "      <td>Recycling</td>\n",
       "      <td>Recycling</td>\n",
       "      <td>0</td>\n",
       "      <td>2021-12-31</td>\n",
       "      <td>3</td>\n",
       "    </tr>\n",
       "    <tr>\n",
       "      <th>2</th>\n",
       "      <td>ACT</td>\n",
       "      <td>Biosolids</td>\n",
       "      <td>Biosolids</td>\n",
       "      <td>Other disposal</td>\n",
       "      <td>Disposal</td>\n",
       "      <td>20186</td>\n",
       "      <td>2021-12-31</td>\n",
       "      <td>9</td>\n",
       "    </tr>\n",
       "    <tr>\n",
       "      <th>3</th>\n",
       "      <td>ACT</td>\n",
       "      <td>Biosolids</td>\n",
       "      <td>Biosolids</td>\n",
       "      <td>Recycling</td>\n",
       "      <td>Recycling</td>\n",
       "      <td>0</td>\n",
       "      <td>2021-12-31</td>\n",
       "      <td>9</td>\n",
       "    </tr>\n",
       "    <tr>\n",
       "      <th>4</th>\n",
       "      <td>ACT</td>\n",
       "      <td>Building and demolition materials</td>\n",
       "      <td>Asphalt</td>\n",
       "      <td>Recycling</td>\n",
       "      <td>Recycling</td>\n",
       "      <td>0</td>\n",
       "      <td>2021-12-31</td>\n",
       "      <td>2</td>\n",
       "    </tr>\n",
       "  </tbody>\n",
       "</table>\n",
       "</div>"
      ],
      "text/plain": [
       "  Jurisdiction                           Category       Type      Management  \\\n",
       "0          ACT                          Biosolids  Biosolids  Other disposal   \n",
       "1          ACT                          Biosolids  Biosolids       Recycling   \n",
       "2          ACT                          Biosolids  Biosolids  Other disposal   \n",
       "3          ACT                          Biosolids  Biosolids       Recycling   \n",
       "4          ACT  Building and demolition materials    Asphalt       Recycling   \n",
       "\n",
       "        Fate      y          ds  Sub-stream  \n",
       "0   Disposal  20186  2021-12-31           3  \n",
       "1  Recycling      0  2021-12-31           3  \n",
       "2   Disposal  20186  2021-12-31           9  \n",
       "3  Recycling      0  2021-12-31           9  \n",
       "4  Recycling      0  2021-12-31           2  "
      ]
     },
     "execution_count": 4,
     "metadata": {},
     "output_type": "execute_result"
    }
   ],
   "source": [
    "df.head()"
   ]
  },
  {
   "cell_type": "code",
   "execution_count": 5,
   "id": "54099a5e",
   "metadata": {
    "scrolled": false
   },
   "outputs": [
    {
     "data": {
      "text/plain": [
       "Index(['Jurisdiction', 'Category', 'Type', 'Management', 'Fate', 'y', 'ds',\n",
       "       'Sub-stream'],\n",
       "      dtype='object')"
      ]
     },
     "execution_count": 5,
     "metadata": {},
     "output_type": "execute_result"
    }
   ],
   "source": [
    "df.columns"
   ]
  },
  {
   "cell_type": "code",
   "execution_count": 6,
   "id": "29f1cb38",
   "metadata": {
    "scrolled": true
   },
   "outputs": [
    {
     "name": "stdout",
     "output_type": "stream",
     "text": [
      "<class 'pandas.core.frame.DataFrame'>\n",
      "RangeIndex: 54227 entries, 0 to 54226\n",
      "Data columns (total 8 columns):\n",
      " #   Column        Non-Null Count  Dtype \n",
      "---  ------        --------------  ----- \n",
      " 0   Jurisdiction  54227 non-null  object\n",
      " 1   Category      54227 non-null  object\n",
      " 2   Type          54227 non-null  object\n",
      " 3   Management    54227 non-null  object\n",
      " 4   Fate          54227 non-null  object\n",
      " 5   y             54227 non-null  int64 \n",
      " 6   ds            54227 non-null  object\n",
      " 7   Sub-stream    54227 non-null  int64 \n",
      "dtypes: int64(2), object(6)\n",
      "memory usage: 3.3+ MB\n"
     ]
    }
   ],
   "source": [
    "df.info()"
   ]
  },
  {
   "cell_type": "code",
   "execution_count": 7,
   "id": "95a8a6ed",
   "metadata": {},
   "outputs": [],
   "source": [
    "df['y'] = df['y'].astype(int)"
   ]
  },
  {
   "cell_type": "code",
   "execution_count": 8,
   "id": "852ca959",
   "metadata": {},
   "outputs": [],
   "source": [
    "from sklearn.preprocessing import LabelEncoder\n",
    "# Encoding the categorical values\n",
    "# Initialize the LabelEncoder for each categorical column\n",
    "label_encoders = {}\n",
    "\n",
    "for col in df.columns:\n",
    "    if df[col].dtype == 'object':  # Check if the column contains categorical data\n",
    "        label_encoders[col] = LabelEncoder()\n",
    "        df[col + '_encoded'] = label_encoders[col].fit_transform(df[col])\n",
    "        \n",
    "df['y'] = LabelEncoder().fit_transform(df['y'])"
   ]
  },
  {
   "cell_type": "code",
   "execution_count": 9,
   "id": "b8cc38b8",
   "metadata": {},
   "outputs": [],
   "source": [
    "def encode(df):\n",
    "    df['y'] = df['y'].astype(int)\n",
    "    label_encoders = {}\n",
    "\n",
    "    for col in df.columns:\n",
    "        if df[col].dtype == 'object':  # Check if the column contains categorical data\n",
    "            label_encoders[col] = LabelEncoder()\n",
    "            df[col + '_encoded'] = label_encoders[col].fit_transform(df[col])\n",
    "\n",
    "    df['y'] = LabelEncoder().fit_transform(df['y'])\n",
    "    \n",
    "    return df"
   ]
  },
  {
   "cell_type": "code",
   "execution_count": 10,
   "id": "e0fdc427",
   "metadata": {},
   "outputs": [
    {
     "data": {
      "text/plain": [
       "Index(['Jurisdiction', 'Category', 'Type', 'Management', 'Fate', 'y', 'ds',\n",
       "       'Sub-stream', 'Jurisdiction_encoded', 'Category_encoded',\n",
       "       'Type_encoded', 'Management_encoded', 'Fate_encoded', 'ds_encoded'],\n",
       "      dtype='object')"
      ]
     },
     "execution_count": 10,
     "metadata": {},
     "output_type": "execute_result"
    }
   ],
   "source": [
    "df.columns"
   ]
  },
  {
   "cell_type": "code",
   "execution_count": 11,
   "id": "f37cafe6",
   "metadata": {},
   "outputs": [],
   "source": [
    "# Selecting encoded variables along with the y variable\n",
    "df = df[['y', 'Jurisdiction_encoded', 'Sub-stream', 'Category_encoded', 'Type_encoded', 'Management_encoded', 'Fate_encoded', 'ds_encoded']]"
   ]
  },
  {
   "cell_type": "code",
   "execution_count": 12,
   "id": "c4ee657a",
   "metadata": {},
   "outputs": [
    {
     "name": "stdout",
     "output_type": "stream",
     "text": [
      "<class 'pandas.core.frame.DataFrame'>\n",
      "RangeIndex: 54227 entries, 0 to 54226\n",
      "Data columns (total 8 columns):\n",
      " #   Column                Non-Null Count  Dtype\n",
      "---  ------                --------------  -----\n",
      " 0   y                     54227 non-null  int64\n",
      " 1   Jurisdiction_encoded  54227 non-null  int32\n",
      " 2   Sub-stream            54227 non-null  int64\n",
      " 3   Category_encoded      54227 non-null  int32\n",
      " 4   Type_encoded          54227 non-null  int32\n",
      " 5   Management_encoded    54227 non-null  int32\n",
      " 6   Fate_encoded          54227 non-null  int32\n",
      " 7   ds_encoded            54227 non-null  int32\n",
      "dtypes: int32(6), int64(2)\n",
      "memory usage: 2.1 MB\n"
     ]
    }
   ],
   "source": [
    "df.info()"
   ]
  },
  {
   "cell_type": "code",
   "execution_count": 13,
   "id": "eadfaf64",
   "metadata": {},
   "outputs": [
    {
     "name": "stdout",
     "output_type": "stream",
     "text": [
      "2023-10-09 13:51:01,146 - kedro.io.data_catalog - INFO - Saving data to `encoded_data_with_type_classification` (CSVDataSet)...\n"
     ]
    }
   ],
   "source": [
    "catalog.save(\"encoded_data_with_type_classification\", df)"
   ]
  },
  {
   "cell_type": "code",
   "execution_count": 14,
   "id": "f237d927",
   "metadata": {
    "scrolled": false
   },
   "outputs": [
    {
     "name": "stdout",
     "output_type": "stream",
     "text": [
      "2023-10-09 13:51:01,199 - kedro.io.data_catalog - INFO - Loading data from `preprocessed_data_with_total_classification` (CSVDataSet)...\n"
     ]
    }
   ],
   "source": [
    "df = catalog.load('preprocessed_data_with_total_classification')"
   ]
  },
  {
   "cell_type": "code",
   "execution_count": 15,
   "id": "086d946e",
   "metadata": {},
   "outputs": [],
   "source": [
    "df['y'] = df['y'].astype(int)"
   ]
  },
  {
   "cell_type": "code",
   "execution_count": 16,
   "id": "a196e657",
   "metadata": {},
   "outputs": [],
   "source": [
    "from sklearn.preprocessing import LabelEncoder\n",
    "# Encoding the categorical values\n",
    "# Initialize the LabelEncoder for each categorical column\n",
    "label_encoders = {}\n",
    "\n",
    "for col in df.columns:\n",
    "    if df[col].dtype == 'object':  # Check if the column contains categorical data\n",
    "        label_encoders[col] = LabelEncoder()\n",
    "        df[col + '_encoded'] = label_encoders[col].fit_transform(df[col])\n",
    "        \n",
    "df['y'] = LabelEncoder().fit_transform(df['y'])"
   ]
  },
  {
   "cell_type": "code",
   "execution_count": 17,
   "id": "1584f5d8",
   "metadata": {},
   "outputs": [
    {
     "data": {
      "text/plain": [
       "Index(['Jurisdiction', 'Category', 'Type', 'Total type', 'Management', 'Fate',\n",
       "       'y', 'ds', 'Sub-stream', 'Jurisdiction_encoded', 'Category_encoded',\n",
       "       'Type_encoded', 'Total type_encoded', 'Management_encoded',\n",
       "       'Fate_encoded', 'ds_encoded'],\n",
       "      dtype='object')"
      ]
     },
     "execution_count": 17,
     "metadata": {},
     "output_type": "execute_result"
    }
   ],
   "source": [
    "df.columns"
   ]
  },
  {
   "cell_type": "code",
   "execution_count": 18,
   "id": "bde80132",
   "metadata": {},
   "outputs": [],
   "source": [
    "# Selecting encoded variables along with the y variable\n",
    "df = df[['y', 'Jurisdiction_encoded', 'Sub-stream', 'Total type', 'Category_encoded', 'Type_encoded', 'Management_encoded', 'Fate_encoded', 'ds_encoded']]"
   ]
  },
  {
   "cell_type": "code",
   "execution_count": 19,
   "id": "3dd7417e",
   "metadata": {},
   "outputs": [
    {
     "name": "stdout",
     "output_type": "stream",
     "text": [
      "2023-10-09 13:51:01,246 - kedro.io.data_catalog - INFO - Saving data to `encoded_data_with_total_classification` (CSVDataSet)...\n"
     ]
    }
   ],
   "source": [
    "catalog.save(\"encoded_data_with_total_classification\", df)"
   ]
  },
  {
   "cell_type": "code",
   "execution_count": 20,
   "id": "6952a979",
   "metadata": {
    "scrolled": true
   },
   "outputs": [
    {
     "name": "stdout",
     "output_type": "stream",
     "text": [
      "2023-10-09 13:51:01,258 - kedro.io.data_catalog - INFO - Loading data from `preprocessed_data_not_recycled` (CSVDataSet)...\n"
     ]
    }
   ],
   "source": [
    "df = catalog.load('preprocessed_data_not_recycled')"
   ]
  },
  {
   "cell_type": "code",
   "execution_count": 21,
   "id": "edfdc02e",
   "metadata": {},
   "outputs": [],
   "source": [
    "df['y'] = df['y'].astype(int)"
   ]
  },
  {
   "cell_type": "code",
   "execution_count": 22,
   "id": "0f8e750d",
   "metadata": {},
   "outputs": [],
   "source": [
    "from sklearn.preprocessing import LabelEncoder\n",
    "# Encoding the categorical values\n",
    "# Initialize the LabelEncoder for each categorical column\n",
    "label_encoders = {}\n",
    "\n",
    "for col in df.columns:\n",
    "    if df[col].dtype == 'object':  # Check if the column contains categorical data\n",
    "        label_encoders[col] = LabelEncoder()\n",
    "        df[col + '_encoded'] = label_encoders[col].fit_transform(df[col])\n",
    "        \n",
    "df['y'] = LabelEncoder().fit_transform(df['y'])"
   ]
  },
  {
   "cell_type": "code",
   "execution_count": 23,
   "id": "449e7b3f",
   "metadata": {},
   "outputs": [
    {
     "data": {
      "text/plain": [
       "Index(['y', 'Jurisdiction_encoded', 'Sub-stream', 'Category_encoded',\n",
       "       'Type_encoded', 'Management_encoded', 'Fate_encoded', 'ds_encoded'],\n",
       "      dtype='object')"
      ]
     },
     "execution_count": 23,
     "metadata": {},
     "output_type": "execute_result"
    }
   ],
   "source": [
    "df.columns"
   ]
  },
  {
   "cell_type": "code",
   "execution_count": 24,
   "id": "4692c7c1",
   "metadata": {},
   "outputs": [],
   "source": [
    "# Selecting encoded variables along with the y variable\n",
    "df = df[['y', 'Jurisdiction_encoded', 'Sub-stream', 'Category_encoded', 'Type_encoded', 'Management_encoded', 'Fate_encoded', 'ds_encoded']]"
   ]
  },
  {
   "cell_type": "code",
   "execution_count": 25,
   "id": "043026d6",
   "metadata": {},
   "outputs": [
    {
     "data": {
      "text/html": [
       "<div>\n",
       "<style scoped>\n",
       "    .dataframe tbody tr th:only-of-type {\n",
       "        vertical-align: middle;\n",
       "    }\n",
       "\n",
       "    .dataframe tbody tr th {\n",
       "        vertical-align: top;\n",
       "    }\n",
       "\n",
       "    .dataframe thead th {\n",
       "        text-align: right;\n",
       "    }\n",
       "</style>\n",
       "<table border=\"1\" class=\"dataframe\">\n",
       "  <thead>\n",
       "    <tr style=\"text-align: right;\">\n",
       "      <th></th>\n",
       "      <th>y</th>\n",
       "      <th>Jurisdiction_encoded</th>\n",
       "      <th>Sub-stream</th>\n",
       "      <th>Category_encoded</th>\n",
       "      <th>Type_encoded</th>\n",
       "      <th>Management_encoded</th>\n",
       "      <th>Fate_encoded</th>\n",
       "      <th>ds_encoded</th>\n",
       "    </tr>\n",
       "  </thead>\n",
       "  <tbody>\n",
       "    <tr>\n",
       "      <th>0</th>\n",
       "      <td>4748</td>\n",
       "      <td>0</td>\n",
       "      <td>3</td>\n",
       "      <td>1</td>\n",
       "      <td>7</td>\n",
       "      <td>2</td>\n",
       "      <td>0</td>\n",
       "      <td>14</td>\n",
       "    </tr>\n",
       "    <tr>\n",
       "      <th>1</th>\n",
       "      <td>4748</td>\n",
       "      <td>0</td>\n",
       "      <td>9</td>\n",
       "      <td>1</td>\n",
       "      <td>7</td>\n",
       "      <td>2</td>\n",
       "      <td>0</td>\n",
       "      <td>14</td>\n",
       "    </tr>\n",
       "    <tr>\n",
       "      <th>2</th>\n",
       "      <td>4748</td>\n",
       "      <td>0</td>\n",
       "      <td>3</td>\n",
       "      <td>1</td>\n",
       "      <td>68</td>\n",
       "      <td>2</td>\n",
       "      <td>0</td>\n",
       "      <td>14</td>\n",
       "    </tr>\n",
       "    <tr>\n",
       "      <th>3</th>\n",
       "      <td>4748</td>\n",
       "      <td>0</td>\n",
       "      <td>9</td>\n",
       "      <td>1</td>\n",
       "      <td>68</td>\n",
       "      <td>2</td>\n",
       "      <td>0</td>\n",
       "      <td>14</td>\n",
       "    </tr>\n",
       "    <tr>\n",
       "      <th>4</th>\n",
       "      <td>4748</td>\n",
       "      <td>0</td>\n",
       "      <td>3</td>\n",
       "      <td>1</td>\n",
       "      <td>68</td>\n",
       "      <td>2</td>\n",
       "      <td>0</td>\n",
       "      <td>14</td>\n",
       "    </tr>\n",
       "  </tbody>\n",
       "</table>\n",
       "</div>"
      ],
      "text/plain": [
       "      y  Jurisdiction_encoded  Sub-stream  Category_encoded  Type_encoded  \\\n",
       "0  4748                     0           3                 1             7   \n",
       "1  4748                     0           9                 1             7   \n",
       "2  4748                     0           3                 1            68   \n",
       "3  4748                     0           9                 1            68   \n",
       "4  4748                     0           3                 1            68   \n",
       "\n",
       "   Management_encoded  Fate_encoded  ds_encoded  \n",
       "0                   2             0          14  \n",
       "1                   2             0          14  \n",
       "2                   2             0          14  \n",
       "3                   2             0          14  \n",
       "4                   2             0          14  "
      ]
     },
     "execution_count": 25,
     "metadata": {},
     "output_type": "execute_result"
    }
   ],
   "source": [
    "df.head()"
   ]
  },
  {
   "cell_type": "code",
   "execution_count": 26,
   "id": "c05b8848",
   "metadata": {},
   "outputs": [
    {
     "name": "stdout",
     "output_type": "stream",
     "text": [
      "2023-10-09 13:51:01,325 - kedro.io.data_catalog - INFO - Saving data to `preprocessed_data_not_recycled` (CSVDataSet)...\n"
     ]
    }
   ],
   "source": [
    "catalog.save(\"preprocessed_data_not_recycled\", df)"
   ]
  },
  {
   "cell_type": "code",
   "execution_count": 27,
   "id": "59ef1933",
   "metadata": {},
   "outputs": [],
   "source": [
    "preprocessed_data_names = ['preprocessed_data_08_12_13', \n",
    "                           'preprocessed_data_not_08_12_13', \n",
    "                           'preprocessed_data_with_mining', \n",
    "                           'preprocessed_data_without_mining',\n",
    "                           'preprocessed_data_19_21',\n",
    "                           'preprocessed_data_not_19_21',\n",
    "                           'preprocessed_data_without_australia',\n",
    "                          'preprocessed_data_with_australia']\n",
    "encoded_data_names = ['encoded_data_08_12_13', \n",
    "                      'encoded_data_not_08_12_13', \n",
    "                      'encoded_data_with_mining', \n",
    "                      'encoded_data_without_mining',\n",
    "                      'encoded_data_19_21',\n",
    "                      'encoded_data_not_19_21',\n",
    "                      'encoded_data_without_australia',\n",
    "                      'encoded_data_with_australia',\n",
    "                     ]"
   ]
  },
  {
   "cell_type": "code",
   "execution_count": 28,
   "id": "b72acf04",
   "metadata": {},
   "outputs": [
    {
     "name": "stdout",
     "output_type": "stream",
     "text": [
      "2023-10-09 13:51:01,380 - kedro.io.data_catalog - INFO - Loading data from `preprocessed_data_08_12_13` (CSVDataSet)...\n",
      "2023-10-09 13:51:01,396 - kedro.io.data_catalog - INFO - Saving data to `encoded_data_08_12_13` (CSVDataSet)...\n",
      "2023-10-09 13:51:01,404 - kedro.io.data_catalog - INFO - Loading data from `preprocessed_data_not_08_12_13` (CSVDataSet)...\n",
      "2023-10-09 13:51:01,470 - kedro.io.data_catalog - INFO - Saving data to `encoded_data_not_08_12_13` (CSVDataSet)...\n",
      "2023-10-09 13:51:01,518 - kedro.io.data_catalog - INFO - Loading data from `preprocessed_data_with_mining` (CSVDataSet)...\n",
      "2023-10-09 13:51:01,523 - kedro.io.data_catalog - INFO - Saving data to `encoded_data_with_mining` (CSVDataSet)...\n",
      "2023-10-09 13:51:01,525 - kedro.io.data_catalog - INFO - Loading data from `preprocessed_data_without_mining` (CSVDataSet)...\n",
      "2023-10-09 13:51:01,589 - kedro.io.data_catalog - INFO - Saving data to `encoded_data_without_mining` (CSVDataSet)...\n",
      "2023-10-09 13:51:01,638 - kedro.io.data_catalog - INFO - Loading data from `preprocessed_data_19_21` (CSVDataSet)...\n",
      "2023-10-09 13:51:01,654 - kedro.io.data_catalog - INFO - Saving data to `encoded_data_19_21` (CSVDataSet)...\n",
      "2023-10-09 13:51:01,663 - kedro.io.data_catalog - INFO - Loading data from `preprocessed_data_not_19_21` (CSVDataSet)...\n",
      "2023-10-09 13:51:01,730 - kedro.io.data_catalog - INFO - Saving data to `encoded_data_not_19_21` (CSVDataSet)...\n",
      "2023-10-09 13:51:01,782 - kedro.io.data_catalog - INFO - Loading data from `preprocessed_data_without_australia` (CSVDataSet)...\n",
      "2023-10-09 13:51:01,853 - kedro.io.data_catalog - INFO - Saving data to `encoded_data_without_australia` (CSVDataSet)...\n",
      "2023-10-09 13:51:01,905 - kedro.io.data_catalog - INFO - Loading data from `preprocessed_data_with_australia` (CSVDataSet)...\n",
      "2023-10-09 13:51:01,910 - kedro.io.data_catalog - INFO - Saving data to `encoded_data_with_australia` (CSVDataSet)...\n"
     ]
    }
   ],
   "source": [
    "for i in range(len(preprocessed_data_names)):\n",
    "    df = encode(catalog.load(preprocessed_data_names[i]))\n",
    "    df = df[['y', 'Jurisdiction_encoded', 'Sub-stream', 'Category_encoded', 'Type_encoded', 'Management_encoded', 'Fate_encoded', 'ds_encoded']]\n",
    "    catalog.save(encoded_data_names[i],df)"
   ]
  }
 ],
 "metadata": {
  "kernelspec": {
   "display_name": "Kedro (monash_datahack_2023)",
   "language": "python",
   "name": "kedro_monash_datahack_2023"
  },
  "language_info": {
   "codemirror_mode": {
    "name": "ipython",
    "version": 3
   },
   "file_extension": ".py",
   "mimetype": "text/x-python",
   "name": "python",
   "nbconvert_exporter": "python",
   "pygments_lexer": "ipython3",
   "version": "3.9.13"
  }
 },
 "nbformat": 4,
 "nbformat_minor": 5
}
