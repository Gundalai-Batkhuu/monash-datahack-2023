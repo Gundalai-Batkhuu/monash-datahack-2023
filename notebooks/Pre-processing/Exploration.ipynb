{
 "cells": [
  {
   "cell_type": "markdown",
   "id": "5460b3c6",
   "metadata": {},
   "source": [
    "https://scikit-learn.org/stable/modules/generated/sklearn.ensemble.RandomForestRegressor.html#sklearn.ensemble.RandomForestRegressor"
   ]
  },
  {
   "cell_type": "code",
   "execution_count": null,
   "id": "fa396150",
   "metadata": {
    "scrolled": true
   },
   "outputs": [
    {
     "name": "stdout",
     "output_type": "stream",
     "text": [
      "2023-10-08 12:06:45,868 - kedro.extras.extensions.ipython - INFO - No path argument was provided. Using: C:\\Users\\Dushku\\PycharmProjects\\monash-datahack-2023\n"
     ]
    }
   ],
   "source": [
    "%reload_kedro\n",
    "\n",
    "import pandas as pd\n",
    "import matplotlib.pyplot as plt\n",
    "from scipy import stats\n"
   ]
  },
  {
   "cell_type": "code",
   "execution_count": null,
   "id": "92c65ada",
   "metadata": {},
   "outputs": [],
   "source": [
    "catalog.list()"
   ]
  },
  {
   "cell_type": "code",
   "execution_count": null,
   "id": "7944ecd2",
   "metadata": {
    "scrolled": true
   },
   "outputs": [],
   "source": [
    "df = catalog.load('encoded_data_with_total_classification')"
   ]
  },
  {
   "cell_type": "code",
   "execution_count": null,
   "id": "a75d9933",
   "metadata": {
    "scrolled": true
   },
   "outputs": [],
   "source": [
    "df.head()"
   ]
  },
  {
   "cell_type": "code",
   "execution_count": null,
   "id": "54099a5e",
   "metadata": {
    "scrolled": false
   },
   "outputs": [],
   "source": [
    "df.columns"
   ]
  },
  {
   "cell_type": "code",
   "execution_count": null,
   "id": "29f1cb38",
   "metadata": {
    "scrolled": true
   },
   "outputs": [],
   "source": [
    "df.info()"
   ]
  },
  {
   "cell_type": "code",
   "execution_count": null,
   "id": "c29d3e45",
   "metadata": {},
   "outputs": [],
   "source": [
    "import plotly.express as px\n",
    "fig = px.histogram(df, x=\"y\")\n",
    "fig.show()"
   ]
  },
  {
   "cell_type": "code",
   "execution_count": null,
   "id": "40c35079",
   "metadata": {},
   "outputs": [],
   "source": [
    "df_str = catalog.load(\"preprocessed_data_with_type_classification\")"
   ]
  },
  {
   "cell_type": "markdown",
   "id": "8dbec25e",
   "metadata": {},
   "source": [
    "## Categorical attributes"
   ]
  },
  {
   "cell_type": "code",
   "execution_count": null,
   "id": "03068690",
   "metadata": {},
   "outputs": [],
   "source": [
    "# Iterate through columns and create bar charts for categorical attributes\n",
    "for column in df_str.columns:\n",
    "    value_counts = df_str[column].value_counts()\n",
    "    plt.figure(figsize=(8, 4))\n",
    "    plt.bar(value_counts.index, value_counts.values)\n",
    "    plt.xlabel(column)\n",
    "    plt.ylabel('Frequency')\n",
    "    plt.title(f'Frequency Bar Chart of {column}')\n",
    "    plt.xticks(rotation=45)\n",
    "    plt.tight_layout()\n",
    "    plt.show()"
   ]
  },
  {
   "cell_type": "markdown",
   "id": "764fca6c",
   "metadata": {},
   "source": [
    "## Null values"
   ]
  },
  {
   "cell_type": "code",
   "execution_count": null,
   "id": "37e6df9d",
   "metadata": {
    "scrolled": true
   },
   "outputs": [],
   "source": [
    "import seaborn as sns\n",
    "\n",
    "null_df = df_str.isnull().sum()\n",
    "print(null_df)"
   ]
  },
  {
   "cell_type": "markdown",
   "id": "8394c925",
   "metadata": {},
   "source": [
    "## Calculate point-biserial correlation of each feature with 'y'"
   ]
  },
  {
   "cell_type": "code",
   "execution_count": null,
   "id": "7a8c5444",
   "metadata": {
    "scrolled": true
   },
   "outputs": [],
   "source": [
    "correlations = {}\n",
    "for column in df.columns:\n",
    "    correlation, _ = stats.pointbiserialr(df[column], df['y'])\n",
    "    correlations[column] = correlation\n",
    "    \n",
    "# Print the correlations\n",
    "print(correlations)\n",
    "\n",
    "# Convert the correlations dictionary to a DataFrame\n",
    "correlation_df = pd.DataFrame(list(correlations.items()), columns=['Feature', 'Correlation'])\n",
    "\n",
    "# Create a bar chart\n",
    "plt.figure(figsize=(10, 6))\n",
    "plt.bar(correlation_df['Feature'], correlation_df['Correlation'])\n",
    "plt.xlabel('Features')\n",
    "plt.ylabel('Correlation with y')\n",
    "plt.title('Point-Biserial Correlation with y')\n",
    "plt.xticks(rotation=45)\n",
    "plt.tight_layout()\n",
    "plt.show()"
   ]
  },
  {
   "cell_type": "markdown",
   "id": "4519e9aa",
   "metadata": {},
   "source": [
    "### Test\n",
    "Drop all values in y with 0"
   ]
  },
  {
   "cell_type": "code",
   "execution_count": null,
   "id": "1b6e4237",
   "metadata": {},
   "outputs": [],
   "source": [
    "# Drop rows where 'y' is equal to 0\n",
    "df_filtered = df[df['y'] != 0]"
   ]
  },
  {
   "cell_type": "code",
   "execution_count": null,
   "id": "004ffb1d",
   "metadata": {},
   "outputs": [],
   "source": [
    "# Calculate point-biserial correlation for each feature with 'y'\n",
    "from scipy import stats\n",
    "\n",
    "correlations = {}\n",
    "for column in df_filtered.columns:\n",
    "    correlation, _ = stats.pointbiserialr(df_filtered[column], df_filtered['y'])\n",
    "    correlations[column] = correlation\n",
    "    \n",
    "# Print the correlations\n",
    "print(correlations)"
   ]
  },
  {
   "cell_type": "code",
   "execution_count": null,
   "id": "d6c17a9f",
   "metadata": {
    "scrolled": true
   },
   "outputs": [],
   "source": [
    "catalog.save(\"encoded_data_without_zero_values\", df_filtered)"
   ]
  }
 ],
 "metadata": {
  "kernelspec": {
   "display_name": "Kedro (monash_datahack_2023)",
   "language": "python",
   "name": "kedro_monash_datahack_2023"
  },
  "language_info": {
   "codemirror_mode": {
    "name": "ipython",
    "version": 3
   },
   "file_extension": ".py",
   "mimetype": "text/x-python",
   "name": "python",
   "nbconvert_exporter": "python",
   "pygments_lexer": "ipython3",
   "version": "3.9.13"
  }
 },
 "nbformat": 4,
 "nbformat_minor": 5
}
