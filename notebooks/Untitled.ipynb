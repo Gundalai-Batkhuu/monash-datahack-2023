{
 "cells": [
  {
   "cell_type": "code",
   "execution_count": null,
   "id": "0e0f8059-0217-454f-ae41-7711803c5c81",
   "metadata": {
    "tags": []
   },
   "outputs": [],
   "source": [
    "catalog.list()"
   ]
  },
  {
   "cell_type": "code",
   "execution_count": null,
   "id": "bea7cd24-fccc-4d1f-ab24-766d48c83b8b",
   "metadata": {},
   "outputs": [],
   "source": []
  }
 ],
 "metadata": {
  "kernelspec": {
   "display_name": "Kedro (monash_datahack_2023)",
   "language": "python",
   "name": "kedro_monash_datahack_2023"
  },
  "language_info": {
   "name": ""
  }
 },
 "nbformat": 4,
 "nbformat_minor": 5
}
